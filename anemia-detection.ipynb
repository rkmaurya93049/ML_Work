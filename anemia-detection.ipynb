{
 "cells": [
  {
   "cell_type": "code",
   "execution_count": 1,
   "id": "05138dee",
   "metadata": {
    "_cell_guid": "b1076dfc-b9ad-4769-8c92-a6c4dae69d19",
    "_uuid": "8f2839f25d086af736a60e9eeb907d3b93b6e0e5",
    "execution": {
     "iopub.execute_input": "2025-04-26T11:02:15.650667Z",
     "iopub.status.busy": "2025-04-26T11:02:15.650338Z",
     "iopub.status.idle": "2025-04-26T11:02:17.642327Z",
     "shell.execute_reply": "2025-04-26T11:02:17.641266Z"
    },
    "papermill": {
     "duration": 1.999708,
     "end_time": "2025-04-26T11:02:17.644370",
     "exception": false,
     "start_time": "2025-04-26T11:02:15.644662",
     "status": "completed"
    },
    "tags": []
   },
   "outputs": [
    {
     "name": "stdout",
     "output_type": "stream",
     "text": [
      "/kaggle/input/anemia-detection-dataset/anemia_dataset.csv\n"
     ]
    }
   ],
   "source": [
    "# This Python 3 environment comes with many helpful analytics libraries installed\n",
    "# It is defined by the kaggle/python Docker image: https://github.com/kaggle/docker-python\n",
    "# For example, here's several helpful packages to load\n",
    "\n",
    "import numpy as np # linear algebra\n",
    "import pandas as pd # data processing, CSV file I/O (e.g. pd.read_csv)\n",
    "\n",
    "# Input data files are available in the read-only \"../input/\" directory\n",
    "# For example, running this (by clicking run or pressing Shift+Enter) will list all files under the input directory\n",
    "\n",
    "import os\n",
    "for dirname, _, filenames in os.walk('/kaggle/input'):\n",
    "    for filename in filenames:\n",
    "        print(os.path.join(dirname, filename))\n",
    "\n",
    "# You can write up to 20GB to the current directory (/kaggle/working/) that gets preserved as output when you create a version using \"Save & Run All\" \n",
    "# You can also write temporary files to /kaggle/temp/, but they won't be saved outside of the current session"
   ]
  },
  {
   "cell_type": "code",
   "execution_count": 2,
   "id": "72e81154",
   "metadata": {
    "execution": {
     "iopub.execute_input": "2025-04-26T11:02:17.653662Z",
     "iopub.status.busy": "2025-04-26T11:02:17.653210Z",
     "iopub.status.idle": "2025-04-26T11:02:17.691003Z",
     "shell.execute_reply": "2025-04-26T11:02:17.689912Z"
    },
    "papermill": {
     "duration": 0.04472,
     "end_time": "2025-04-26T11:02:17.692838",
     "exception": false,
     "start_time": "2025-04-26T11:02:17.648118",
     "status": "completed"
    },
    "tags": []
   },
   "outputs": [],
   "source": [
    "df=pd.read_csv(\"/kaggle/input/anemia-detection-dataset/anemia_dataset.csv\",index_col=0)"
   ]
  },
  {
   "cell_type": "code",
   "execution_count": 3,
   "id": "fc7bd9b7",
   "metadata": {
    "execution": {
     "iopub.execute_input": "2025-04-26T11:02:17.700687Z",
     "iopub.status.busy": "2025-04-26T11:02:17.700338Z",
     "iopub.status.idle": "2025-04-26T11:02:17.730394Z",
     "shell.execute_reply": "2025-04-26T11:02:17.729110Z"
    },
    "papermill": {
     "duration": 0.035754,
     "end_time": "2025-04-26T11:02:17.731894",
     "exception": false,
     "start_time": "2025-04-26T11:02:17.696140",
     "status": "completed"
    },
    "tags": []
   },
   "outputs": [
    {
     "name": "stderr",
     "output_type": "stream",
     "text": [
      "/usr/local/lib/python3.11/dist-packages/pandas/io/formats/format.py:1458: RuntimeWarning: invalid value encountered in greater\n",
      "  has_large_values = (abs_vals > 1e6).any()\n",
      "/usr/local/lib/python3.11/dist-packages/pandas/io/formats/format.py:1459: RuntimeWarning: invalid value encountered in less\n",
      "  has_small_values = ((abs_vals < 10 ** (-self.digits)) & (abs_vals > 0)).any()\n",
      "/usr/local/lib/python3.11/dist-packages/pandas/io/formats/format.py:1459: RuntimeWarning: invalid value encountered in greater\n",
      "  has_small_values = ((abs_vals < 10 ** (-self.digits)) & (abs_vals > 0)).any()\n"
     ]
    },
    {
     "data": {
      "text/html": [
       "<div>\n",
       "<style scoped>\n",
       "    .dataframe tbody tr th:only-of-type {\n",
       "        vertical-align: middle;\n",
       "    }\n",
       "\n",
       "    .dataframe tbody tr th {\n",
       "        vertical-align: top;\n",
       "    }\n",
       "\n",
       "    .dataframe thead th {\n",
       "        text-align: right;\n",
       "    }\n",
       "</style>\n",
       "<table border=\"1\" class=\"dataframe\">\n",
       "  <thead>\n",
       "    <tr style=\"text-align: right;\">\n",
       "      <th></th>\n",
       "      <th>Name</th>\n",
       "      <th>%Red Pixel</th>\n",
       "      <th>%Green pixel</th>\n",
       "      <th>%Blue pixel</th>\n",
       "      <th>Hb</th>\n",
       "      <th>Anaemic</th>\n",
       "      <th>Unnamed: 7</th>\n",
       "      <th>Unnamed: 8</th>\n",
       "      <th>Unnamed: 9</th>\n",
       "      <th>Unnamed: 10</th>\n",
       "      <th>Unnamed: 11</th>\n",
       "      <th>Unnamed: 12</th>\n",
       "      <th>Unnamed: 13</th>\n",
       "    </tr>\n",
       "    <tr>\n",
       "      <th>Number</th>\n",
       "      <th></th>\n",
       "      <th></th>\n",
       "      <th></th>\n",
       "      <th></th>\n",
       "      <th></th>\n",
       "      <th></th>\n",
       "      <th></th>\n",
       "      <th></th>\n",
       "      <th></th>\n",
       "      <th></th>\n",
       "      <th></th>\n",
       "      <th></th>\n",
       "      <th></th>\n",
       "    </tr>\n",
       "  </thead>\n",
       "  <tbody>\n",
       "    <tr>\n",
       "      <th>1</th>\n",
       "      <td>Jafor Alam</td>\n",
       "      <td>43.2555</td>\n",
       "      <td>30.8421</td>\n",
       "      <td>25.9025</td>\n",
       "      <td>6.3</td>\n",
       "      <td>Yes</td>\n",
       "      <td>NaN</td>\n",
       "      <td>NaN</td>\n",
       "      <td>NaN</td>\n",
       "      <td>NaN</td>\n",
       "      <td>NaN</td>\n",
       "      <td>NaN</td>\n",
       "      <td>NaN</td>\n",
       "    </tr>\n",
       "    <tr>\n",
       "      <th>2</th>\n",
       "      <td>khadiza</td>\n",
       "      <td>45.6033</td>\n",
       "      <td>28.1900</td>\n",
       "      <td>26.2067</td>\n",
       "      <td>13.5</td>\n",
       "      <td>No</td>\n",
       "      <td>NaN</td>\n",
       "      <td>NaN</td>\n",
       "      <td>NaN</td>\n",
       "      <td>NaN</td>\n",
       "      <td>NaN</td>\n",
       "      <td>NaN</td>\n",
       "      <td>NaN</td>\n",
       "    </tr>\n",
       "    <tr>\n",
       "      <th>3</th>\n",
       "      <td>Lalu</td>\n",
       "      <td>45.0107</td>\n",
       "      <td>28.9677</td>\n",
       "      <td>26.0215</td>\n",
       "      <td>11.7</td>\n",
       "      <td>No</td>\n",
       "      <td>NaN</td>\n",
       "      <td>NaN</td>\n",
       "      <td>NaN</td>\n",
       "      <td>NaN</td>\n",
       "      <td>NaN</td>\n",
       "      <td>NaN</td>\n",
       "      <td>NaN</td>\n",
       "    </tr>\n",
       "    <tr>\n",
       "      <th>4</th>\n",
       "      <td>Mira nath</td>\n",
       "      <td>44.5398</td>\n",
       "      <td>28.9899</td>\n",
       "      <td>26.4703</td>\n",
       "      <td>13.5</td>\n",
       "      <td>No</td>\n",
       "      <td>NaN</td>\n",
       "      <td>NaN</td>\n",
       "      <td>NaN</td>\n",
       "      <td>NaN</td>\n",
       "      <td>NaN</td>\n",
       "      <td>NaN</td>\n",
       "      <td>NaN</td>\n",
       "    </tr>\n",
       "    <tr>\n",
       "      <th>5</th>\n",
       "      <td>monoara</td>\n",
       "      <td>43.2870</td>\n",
       "      <td>30.6972</td>\n",
       "      <td>26.0158</td>\n",
       "      <td>12.4</td>\n",
       "      <td>No</td>\n",
       "      <td>NaN</td>\n",
       "      <td>NaN</td>\n",
       "      <td>NaN</td>\n",
       "      <td>NaN</td>\n",
       "      <td>NaN</td>\n",
       "      <td>NaN</td>\n",
       "      <td>NaN</td>\n",
       "    </tr>\n",
       "  </tbody>\n",
       "</table>\n",
       "</div>"
      ],
      "text/plain": [
       "              Name  %Red Pixel  %Green pixel  %Blue pixel    Hb Anaemic  \\\n",
       "Number                                                                    \n",
       "1       Jafor Alam     43.2555       30.8421      25.9025   6.3     Yes   \n",
       "2          khadiza     45.6033       28.1900      26.2067  13.5      No   \n",
       "3             Lalu     45.0107       28.9677      26.0215  11.7      No   \n",
       "4        Mira nath     44.5398       28.9899      26.4703  13.5      No   \n",
       "5          monoara     43.2870       30.6972      26.0158  12.4      No   \n",
       "\n",
       "        Unnamed: 7  Unnamed: 8  Unnamed: 9  Unnamed: 10  Unnamed: 11  \\\n",
       "Number                                                                 \n",
       "1              NaN         NaN         NaN          NaN          NaN   \n",
       "2              NaN         NaN         NaN          NaN          NaN   \n",
       "3              NaN         NaN         NaN          NaN          NaN   \n",
       "4              NaN         NaN         NaN          NaN          NaN   \n",
       "5              NaN         NaN         NaN          NaN          NaN   \n",
       "\n",
       "        Unnamed: 12 Unnamed: 13  \n",
       "Number                           \n",
       "1               NaN         NaN  \n",
       "2               NaN         NaN  \n",
       "3               NaN         NaN  \n",
       "4               NaN         NaN  \n",
       "5               NaN         NaN  "
      ]
     },
     "execution_count": 3,
     "metadata": {},
     "output_type": "execute_result"
    }
   ],
   "source": [
    "df.head()"
   ]
  },
  {
   "cell_type": "code",
   "execution_count": 4,
   "id": "0cfb1f24",
   "metadata": {
    "execution": {
     "iopub.execute_input": "2025-04-26T11:02:17.741069Z",
     "iopub.status.busy": "2025-04-26T11:02:17.740131Z",
     "iopub.status.idle": "2025-04-26T11:02:17.746857Z",
     "shell.execute_reply": "2025-04-26T11:02:17.745826Z"
    },
    "papermill": {
     "duration": 0.012725,
     "end_time": "2025-04-26T11:02:17.748451",
     "exception": false,
     "start_time": "2025-04-26T11:02:17.735726",
     "status": "completed"
    },
    "tags": []
   },
   "outputs": [
    {
     "data": {
      "text/plain": [
       "(104, 13)"
      ]
     },
     "execution_count": 4,
     "metadata": {},
     "output_type": "execute_result"
    }
   ],
   "source": [
    "df.shape"
   ]
  },
  {
   "cell_type": "code",
   "execution_count": 5,
   "id": "83ad2b2d",
   "metadata": {
    "execution": {
     "iopub.execute_input": "2025-04-26T11:02:17.756754Z",
     "iopub.status.busy": "2025-04-26T11:02:17.756454Z",
     "iopub.status.idle": "2025-04-26T11:02:17.775890Z",
     "shell.execute_reply": "2025-04-26T11:02:17.774851Z"
    },
    "papermill": {
     "duration": 0.025483,
     "end_time": "2025-04-26T11:02:17.777467",
     "exception": false,
     "start_time": "2025-04-26T11:02:17.751984",
     "status": "completed"
    },
    "tags": []
   },
   "outputs": [
    {
     "name": "stdout",
     "output_type": "stream",
     "text": [
      "<class 'pandas.core.frame.DataFrame'>\n",
      "Index: 104 entries, 1 to 104\n",
      "Data columns (total 13 columns):\n",
      " #   Column        Non-Null Count  Dtype  \n",
      "---  ------        --------------  -----  \n",
      " 0   Name          104 non-null    object \n",
      " 1   %Red Pixel    104 non-null    float64\n",
      " 2   %Green pixel  104 non-null    float64\n",
      " 3   %Blue pixel   104 non-null    float64\n",
      " 4   Hb            104 non-null    float64\n",
      " 5   Anaemic       104 non-null    object \n",
      " 6   Unnamed: 7    0 non-null      float64\n",
      " 7   Unnamed: 8    0 non-null      float64\n",
      " 8   Unnamed: 9    0 non-null      float64\n",
      " 9   Unnamed: 10   0 non-null      float64\n",
      " 10  Unnamed: 11   0 non-null      float64\n",
      " 11  Unnamed: 12   0 non-null      float64\n",
      " 12  Unnamed: 13   1 non-null      object \n",
      "dtypes: float64(10), object(3)\n",
      "memory usage: 11.4+ KB\n"
     ]
    }
   ],
   "source": [
    "df.info()"
   ]
  },
  {
   "cell_type": "code",
   "execution_count": 6,
   "id": "ce9134df",
   "metadata": {
    "execution": {
     "iopub.execute_input": "2025-04-26T11:02:17.787779Z",
     "iopub.status.busy": "2025-04-26T11:02:17.786883Z",
     "iopub.status.idle": "2025-04-26T11:02:17.796035Z",
     "shell.execute_reply": "2025-04-26T11:02:17.794987Z"
    },
    "papermill": {
     "duration": 0.015558,
     "end_time": "2025-04-26T11:02:17.798052",
     "exception": false,
     "start_time": "2025-04-26T11:02:17.782494",
     "status": "completed"
    },
    "tags": []
   },
   "outputs": [],
   "source": [
    "df.drop(columns=['Unnamed: 7','Unnamed: 8','Unnamed: 9','Unnamed: 10','Unnamed: 11','Unnamed: 12','Unnamed: 13'],inplace=True)"
   ]
  },
  {
   "cell_type": "code",
   "execution_count": 7,
   "id": "6097cedd",
   "metadata": {
    "execution": {
     "iopub.execute_input": "2025-04-26T11:02:17.807266Z",
     "iopub.status.busy": "2025-04-26T11:02:17.806882Z",
     "iopub.status.idle": "2025-04-26T11:02:17.818494Z",
     "shell.execute_reply": "2025-04-26T11:02:17.817652Z"
    },
    "papermill": {
     "duration": 0.018081,
     "end_time": "2025-04-26T11:02:17.819922",
     "exception": false,
     "start_time": "2025-04-26T11:02:17.801841",
     "status": "completed"
    },
    "tags": []
   },
   "outputs": [
    {
     "data": {
      "text/html": [
       "<div>\n",
       "<style scoped>\n",
       "    .dataframe tbody tr th:only-of-type {\n",
       "        vertical-align: middle;\n",
       "    }\n",
       "\n",
       "    .dataframe tbody tr th {\n",
       "        vertical-align: top;\n",
       "    }\n",
       "\n",
       "    .dataframe thead th {\n",
       "        text-align: right;\n",
       "    }\n",
       "</style>\n",
       "<table border=\"1\" class=\"dataframe\">\n",
       "  <thead>\n",
       "    <tr style=\"text-align: right;\">\n",
       "      <th></th>\n",
       "      <th>Name</th>\n",
       "      <th>%Red Pixel</th>\n",
       "      <th>%Green pixel</th>\n",
       "      <th>%Blue pixel</th>\n",
       "      <th>Hb</th>\n",
       "      <th>Anaemic</th>\n",
       "    </tr>\n",
       "    <tr>\n",
       "      <th>Number</th>\n",
       "      <th></th>\n",
       "      <th></th>\n",
       "      <th></th>\n",
       "      <th></th>\n",
       "      <th></th>\n",
       "      <th></th>\n",
       "    </tr>\n",
       "  </thead>\n",
       "  <tbody>\n",
       "    <tr>\n",
       "      <th>1</th>\n",
       "      <td>Jafor Alam</td>\n",
       "      <td>43.2555</td>\n",
       "      <td>30.8421</td>\n",
       "      <td>25.9025</td>\n",
       "      <td>6.3</td>\n",
       "      <td>Yes</td>\n",
       "    </tr>\n",
       "    <tr>\n",
       "      <th>2</th>\n",
       "      <td>khadiza</td>\n",
       "      <td>45.6033</td>\n",
       "      <td>28.1900</td>\n",
       "      <td>26.2067</td>\n",
       "      <td>13.5</td>\n",
       "      <td>No</td>\n",
       "    </tr>\n",
       "    <tr>\n",
       "      <th>3</th>\n",
       "      <td>Lalu</td>\n",
       "      <td>45.0107</td>\n",
       "      <td>28.9677</td>\n",
       "      <td>26.0215</td>\n",
       "      <td>11.7</td>\n",
       "      <td>No</td>\n",
       "    </tr>\n",
       "    <tr>\n",
       "      <th>4</th>\n",
       "      <td>Mira nath</td>\n",
       "      <td>44.5398</td>\n",
       "      <td>28.9899</td>\n",
       "      <td>26.4703</td>\n",
       "      <td>13.5</td>\n",
       "      <td>No</td>\n",
       "    </tr>\n",
       "    <tr>\n",
       "      <th>5</th>\n",
       "      <td>monoara</td>\n",
       "      <td>43.2870</td>\n",
       "      <td>30.6972</td>\n",
       "      <td>26.0158</td>\n",
       "      <td>12.4</td>\n",
       "      <td>No</td>\n",
       "    </tr>\n",
       "  </tbody>\n",
       "</table>\n",
       "</div>"
      ],
      "text/plain": [
       "              Name  %Red Pixel  %Green pixel  %Blue pixel    Hb Anaemic\n",
       "Number                                                                 \n",
       "1       Jafor Alam     43.2555       30.8421      25.9025   6.3     Yes\n",
       "2          khadiza     45.6033       28.1900      26.2067  13.5      No\n",
       "3             Lalu     45.0107       28.9677      26.0215  11.7      No\n",
       "4        Mira nath     44.5398       28.9899      26.4703  13.5      No\n",
       "5          monoara     43.2870       30.6972      26.0158  12.4      No"
      ]
     },
     "execution_count": 7,
     "metadata": {},
     "output_type": "execute_result"
    }
   ],
   "source": [
    "df.head()"
   ]
  },
  {
   "cell_type": "code",
   "execution_count": 8,
   "id": "e02d67eb",
   "metadata": {
    "execution": {
     "iopub.execute_input": "2025-04-26T11:02:17.829463Z",
     "iopub.status.busy": "2025-04-26T11:02:17.828679Z",
     "iopub.status.idle": "2025-04-26T11:02:17.835875Z",
     "shell.execute_reply": "2025-04-26T11:02:17.835037Z"
    },
    "papermill": {
     "duration": 0.013402,
     "end_time": "2025-04-26T11:02:17.837285",
     "exception": false,
     "start_time": "2025-04-26T11:02:17.823883",
     "status": "completed"
    },
    "tags": []
   },
   "outputs": [
    {
     "data": {
      "text/plain": [
       "Name            0\n",
       "%Red Pixel      0\n",
       "%Green pixel    0\n",
       "%Blue pixel     0\n",
       "Hb              0\n",
       "Anaemic         0\n",
       "dtype: int64"
      ]
     },
     "execution_count": 8,
     "metadata": {},
     "output_type": "execute_result"
    }
   ],
   "source": [
    "df.isnull().sum()"
   ]
  },
  {
   "cell_type": "code",
   "execution_count": 9,
   "id": "f478fce7",
   "metadata": {
    "execution": {
     "iopub.execute_input": "2025-04-26T11:02:17.847203Z",
     "iopub.status.busy": "2025-04-26T11:02:17.846034Z",
     "iopub.status.idle": "2025-04-26T11:02:17.868521Z",
     "shell.execute_reply": "2025-04-26T11:02:17.867283Z"
    },
    "papermill": {
     "duration": 0.029121,
     "end_time": "2025-04-26T11:02:17.870414",
     "exception": false,
     "start_time": "2025-04-26T11:02:17.841293",
     "status": "completed"
    },
    "tags": []
   },
   "outputs": [
    {
     "data": {
      "text/html": [
       "<div>\n",
       "<style scoped>\n",
       "    .dataframe tbody tr th:only-of-type {\n",
       "        vertical-align: middle;\n",
       "    }\n",
       "\n",
       "    .dataframe tbody tr th {\n",
       "        vertical-align: top;\n",
       "    }\n",
       "\n",
       "    .dataframe thead th {\n",
       "        text-align: right;\n",
       "    }\n",
       "</style>\n",
       "<table border=\"1\" class=\"dataframe\">\n",
       "  <thead>\n",
       "    <tr style=\"text-align: right;\">\n",
       "      <th></th>\n",
       "      <th>%Red Pixel</th>\n",
       "      <th>%Green pixel</th>\n",
       "      <th>%Blue pixel</th>\n",
       "      <th>Hb</th>\n",
       "    </tr>\n",
       "  </thead>\n",
       "  <tbody>\n",
       "    <tr>\n",
       "      <th>count</th>\n",
       "      <td>104.000000</td>\n",
       "      <td>104.000000</td>\n",
       "      <td>104.000000</td>\n",
       "      <td>104.000000</td>\n",
       "    </tr>\n",
       "    <tr>\n",
       "      <th>mean</th>\n",
       "      <td>45.654175</td>\n",
       "      <td>28.875507</td>\n",
       "      <td>25.470325</td>\n",
       "      <td>12.150962</td>\n",
       "    </tr>\n",
       "    <tr>\n",
       "      <th>std</th>\n",
       "      <td>2.816294</td>\n",
       "      <td>1.554275</td>\n",
       "      <td>1.984671</td>\n",
       "      <td>2.512957</td>\n",
       "    </tr>\n",
       "    <tr>\n",
       "      <th>min</th>\n",
       "      <td>38.796800</td>\n",
       "      <td>25.140300</td>\n",
       "      <td>19.541300</td>\n",
       "      <td>2.800000</td>\n",
       "    </tr>\n",
       "    <tr>\n",
       "      <th>25%</th>\n",
       "      <td>43.911375</td>\n",
       "      <td>27.871300</td>\n",
       "      <td>24.896425</td>\n",
       "      <td>10.650000</td>\n",
       "    </tr>\n",
       "    <tr>\n",
       "      <th>50%</th>\n",
       "      <td>45.385350</td>\n",
       "      <td>28.948750</td>\n",
       "      <td>25.953200</td>\n",
       "      <td>12.600000</td>\n",
       "    </tr>\n",
       "    <tr>\n",
       "      <th>75%</th>\n",
       "      <td>46.968325</td>\n",
       "      <td>29.887275</td>\n",
       "      <td>26.721600</td>\n",
       "      <td>14.000000</td>\n",
       "    </tr>\n",
       "    <tr>\n",
       "      <th>max</th>\n",
       "      <td>54.647800</td>\n",
       "      <td>32.368100</td>\n",
       "      <td>29.841400</td>\n",
       "      <td>16.300000</td>\n",
       "    </tr>\n",
       "  </tbody>\n",
       "</table>\n",
       "</div>"
      ],
      "text/plain": [
       "       %Red Pixel  %Green pixel  %Blue pixel          Hb\n",
       "count  104.000000    104.000000   104.000000  104.000000\n",
       "mean    45.654175     28.875507    25.470325   12.150962\n",
       "std      2.816294      1.554275     1.984671    2.512957\n",
       "min     38.796800     25.140300    19.541300    2.800000\n",
       "25%     43.911375     27.871300    24.896425   10.650000\n",
       "50%     45.385350     28.948750    25.953200   12.600000\n",
       "75%     46.968325     29.887275    26.721600   14.000000\n",
       "max     54.647800     32.368100    29.841400   16.300000"
      ]
     },
     "execution_count": 9,
     "metadata": {},
     "output_type": "execute_result"
    }
   ],
   "source": [
    "df.describe()"
   ]
  },
  {
   "cell_type": "markdown",
   "id": "f6524a33",
   "metadata": {
    "papermill": {
     "duration": 0.003818,
     "end_time": "2025-04-26T11:02:17.878440",
     "exception": false,
     "start_time": "2025-04-26T11:02:17.874622",
     "status": "completed"
    },
    "tags": []
   },
   "source": [
    "# Outliers:"
   ]
  },
  {
   "cell_type": "code",
   "execution_count": 10,
   "id": "863e1f8c",
   "metadata": {
    "execution": {
     "iopub.execute_input": "2025-04-26T11:02:17.888338Z",
     "iopub.status.busy": "2025-04-26T11:02:17.887967Z",
     "iopub.status.idle": "2025-04-26T11:02:20.384426Z",
     "shell.execute_reply": "2025-04-26T11:02:20.383275Z"
    },
    "papermill": {
     "duration": 2.503603,
     "end_time": "2025-04-26T11:02:20.386150",
     "exception": false,
     "start_time": "2025-04-26T11:02:17.882547",
     "status": "completed"
    },
    "tags": []
   },
   "outputs": [
    {
     "data": {
      "image/png": "[encoded data removed]",
      "text/plain": [
       "<Figure size 2000x600 with 1 Axes>"
      ]
     },
     "metadata": {},
     "output_type": "display_data"
    }
   ],
   "source": [
    "import matplotlib.pyplot as plt\n",
    "import seaborn as sns\n",
    "df.boxplot(figsize=(20,6))\n",
    "plt.show()"
   ]
  },
  {
   "cell_type": "markdown",
   "id": "ce948500",
   "metadata": {
    "papermill": {
     "duration": 0.004716,
     "end_time": "2025-04-26T11:02:20.395778",
     "exception": false,
     "start_time": "2025-04-26T11:02:20.391062",
     "status": "completed"
    },
    "tags": []
   },
   "source": [
    "### Outlier handling for RedPixel"
   ]
  },
  {
   "cell_type": "code",
   "execution_count": 11,
   "id": "265655b1",
   "metadata": {
    "execution": {
     "iopub.execute_input": "2025-04-26T11:02:20.406424Z",
     "iopub.status.busy": "2025-04-26T11:02:20.405918Z",
     "iopub.status.idle": "2025-04-26T11:02:20.416587Z",
     "shell.execute_reply": "2025-04-26T11:02:20.415537Z"
    },
    "papermill": {
     "duration": 0.01798,
     "end_time": "2025-04-26T11:02:20.418257",
     "exception": false,
     "start_time": "2025-04-26T11:02:20.400277",
     "status": "completed"
    },
    "tags": []
   },
   "outputs": [
    {
     "name": "stdout",
     "output_type": "stream",
     "text": [
      "Number\n",
      "65    38.7968\n",
      "73    52.9108\n",
      "76    53.9113\n",
      "89    54.6478\n",
      "96    52.1540\n",
      "97    51.5802\n",
      "Name: %Red Pixel, dtype: float64\n"
     ]
    }
   ],
   "source": [
    "q1=df['%Red Pixel'].quantile(0.25)\n",
    "q3=df['%Red Pixel'].quantile(0.75)\n",
    "IQR=q3-q1\n",
    "lower_bound=q1-1.5*IQR\n",
    "upper_bound=q3+1.5*IQR\n",
    "outliers = df['%Red Pixel'][(df['%Red Pixel']<lower_bound) | (df['%Red Pixel']>upper_bound)]\n",
    "print(outliers)"
   ]
  },
  {
   "cell_type": "code",
   "execution_count": 12,
   "id": "75e0c4c1",
   "metadata": {
    "execution": {
     "iopub.execute_input": "2025-04-26T11:02:20.429284Z",
     "iopub.status.busy": "2025-04-26T11:02:20.428924Z",
     "iopub.status.idle": "2025-04-26T11:02:20.435552Z",
     "shell.execute_reply": "2025-04-26T11:02:20.434425Z"
    },
    "papermill": {
     "duration": 0.014538,
     "end_time": "2025-04-26T11:02:20.437480",
     "exception": false,
     "start_time": "2025-04-26T11:02:20.422942",
     "status": "completed"
    },
    "tags": []
   },
   "outputs": [],
   "source": [
    "# handling outliers\n",
    "df['%Red Pixel']=df['%Red Pixel'].apply(lambda x:lower_bound if x<lower_bound else (upper_bound if x>upper_bound else x))"
   ]
  },
  {
   "cell_type": "code",
   "execution_count": 13,
   "id": "ba0816e9",
   "metadata": {
    "execution": {
     "iopub.execute_input": "2025-04-26T11:02:20.448439Z",
     "iopub.status.busy": "2025-04-26T11:02:20.447984Z",
     "iopub.status.idle": "2025-04-26T11:02:20.457662Z",
     "shell.execute_reply": "2025-04-26T11:02:20.456573Z"
    },
    "papermill": {
     "duration": 0.017897,
     "end_time": "2025-04-26T11:02:20.459957",
     "exception": false,
     "start_time": "2025-04-26T11:02:20.442060",
     "status": "completed"
    },
    "tags": []
   },
   "outputs": [
    {
     "data": {
      "text/plain": [
       "Number\n",
       "1    43.2555\n",
       "2    45.6033\n",
       "3    45.0107\n",
       "4    44.5398\n",
       "5    43.2870\n",
       "Name: %Red Pixel, dtype: float64"
      ]
     },
     "execution_count": 13,
     "metadata": {},
     "output_type": "execute_result"
    }
   ],
   "source": [
    "df['%Red Pixel'].head()"
   ]
  }
 ],
 "metadata": {
  "kaggle": {
   "accelerator": "none",
   "dataSources": [
    {
     "datasetId": 7254948,
     "sourceId": 11571939,
     "sourceType": "datasetVersion"
    }
   ],
   "dockerImageVersionId": 31012,
   "isGpuEnabled": false,
   "isInternetEnabled": true,
   "language": "python",
   "sourceType": "notebook"
  },
  "kernelspec": {
   "display_name": "Python 3",
   "language": "python",
   "name": "python3"
  },
  "language_info": {
   "codemirror_mode": {
    "name": "ipython",
    "version": 3
   },
   "file_extension": ".py",
   "mimetype": "text/x-python",
   "name": "python",
   "nbconvert_exporter": "python",
   "pygments_lexer": "ipython3",
   "version": "3.11.11"
  },
  "papermill": {
   "default_parameters": {},
   "duration": 10.495841,
   "end_time": "2025-04-26T11:02:21.188992",
   "environment_variables": {},
   "exception": null,
   "input_path": "__notebook__.ipynb",
   "output_path": "__notebook__.ipynb",
   "parameters": {},
   "start_time": "2025-04-26T11:02:10.693151",
   "version": "2.6.0"
  }
 },
 "nbformat": 4,
 "nbformat_minor": 5
}
