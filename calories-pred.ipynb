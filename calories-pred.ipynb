{
 "cells": [
  {
   "cell_type": "code",
   "execution_count": 1,
   "id": "3dc3dbf5",
   "metadata": {
    "_cell_guid": "b1076dfc-b9ad-4769-8c92-a6c4dae69d19",
    "_uuid": "8f2839f25d086af736a60e9eeb907d3b93b6e0e5",
    "execution": {
     "iopub.execute_input": "2025-05-01T07:25:15.096083Z",
     "iopub.status.busy": "2025-05-01T07:25:15.095761Z",
     "iopub.status.idle": "2025-05-01T07:25:16.951128Z",
     "shell.execute_reply": "2025-05-01T07:25:16.949979Z"
    },
    "papermill": {
     "duration": 1.862789,
     "end_time": "2025-05-01T07:25:16.952704",
     "exception": false,
     "start_time": "2025-05-01T07:25:15.089915",
     "status": "completed"
    },
    "tags": []
   },
   "outputs": [
    {
     "name": "stdout",
     "output_type": "stream",
     "text": [
      "/kaggle/input/playground-series-s5e5/sample_submission.csv\n",
      "/kaggle/input/playground-series-s5e5/train.csv\n",
      "/kaggle/input/playground-series-s5e5/test.csv\n"
     ]
    }
   ],
   "source": [
    "# This Python 3 environment comes with many helpful analytics libraries installed\n",
    "# It is defined by the kaggle/python Docker image: https://github.com/kaggle/docker-python\n",
    "# For example, here's several helpful packages to load\n",
    "\n",
    "import numpy as np # linear algebra\n",
    "import pandas as pd # data processing, CSV file I/O (e.g. pd.read_csv)\n",
    "\n",
    "# Input data files are available in the read-only \"../input/\" directory\n",
    "# For example, running this (by clicking run or pressing Shift+Enter) will list all files under the input directory\n",
    "\n",
    "import os\n",
    "for dirname, _, filenames in os.walk('/kaggle/input'):\n",
    "    for filename in filenames:\n",
    "        print(os.path.join(dirname, filename))\n",
    "\n",
    "# You can write up to 20GB to the current directory (/kaggle/working/) that gets preserved as output when you create a version using \"Save & Run All\" \n",
    "# You can also write temporary files to /kaggle/temp/, but they won't be saved outside of the current session"
   ]
  },
  {
   "cell_type": "markdown",
   "id": "2f8f09c6",
   "metadata": {
    "papermill": {
     "duration": 0.004237,
     "end_time": "2025-05-01T07:25:16.961209",
     "exception": false,
     "start_time": "2025-05-01T07:25:16.956972",
     "status": "completed"
    },
    "tags": []
   },
   "source": [
    "# Uploading the dataset:"
   ]
  },
  {
   "cell_type": "code",
   "execution_count": 2,
   "id": "c21d03c3",
   "metadata": {
    "execution": {
     "iopub.execute_input": "2025-05-01T07:25:16.970787Z",
     "iopub.status.busy": "2025-05-01T07:25:16.969692Z",
     "iopub.status.idle": "2025-05-01T07:25:18.185743Z",
     "shell.execute_reply": "2025-05-01T07:25:18.184707Z"
    },
    "papermill": {
     "duration": 1.22263,
     "end_time": "2025-05-01T07:25:18.187735",
     "exception": false,
     "start_time": "2025-05-01T07:25:16.965105",
     "status": "completed"
    },
    "tags": []
   },
   "outputs": [],
   "source": [
    "df=pd.read_csv(\"/kaggle/input/playground-series-s5e5/train.csv\",index_col=0)"
   ]
  },
  {
   "cell_type": "code",
   "execution_count": 3,
   "id": "a6468ad5",
   "metadata": {
    "execution": {
     "iopub.execute_input": "2025-05-01T07:25:18.197934Z",
     "iopub.status.busy": "2025-05-01T07:25:18.196992Z",
     "iopub.status.idle": "2025-05-01T07:25:18.223695Z",
     "shell.execute_reply": "2025-05-01T07:25:18.222610Z"
    },
    "papermill": {
     "duration": 0.033521,
     "end_time": "2025-05-01T07:25:18.225518",
     "exception": false,
     "start_time": "2025-05-01T07:25:18.191997",
     "status": "completed"
    },
    "tags": []
   },
   "outputs": [
    {
     "data": {
      "text/html": [
       "<div>\n",
       "<style scoped>\n",
       "    .dataframe tbody tr th:only-of-type {\n",
       "        vertical-align: middle;\n",
       "    }\n",
       "\n",
       "    .dataframe tbody tr th {\n",
       "        vertical-align: top;\n",
       "    }\n",
       "\n",
       "    .dataframe thead th {\n",
       "        text-align: right;\n",
       "    }\n",
       "</style>\n",
       "<table border=\"1\" class=\"dataframe\">\n",
       "  <thead>\n",
       "    <tr style=\"text-align: right;\">\n",
       "      <th></th>\n",
       "      <th>Sex</th>\n",
       "      <th>Age</th>\n",
       "      <th>Height</th>\n",
       "      <th>Weight</th>\n",
       "      <th>Duration</th>\n",
       "      <th>Heart_Rate</th>\n",
       "      <th>Body_Temp</th>\n",
       "      <th>Calories</th>\n",
       "    </tr>\n",
       "    <tr>\n",
       "      <th>id</th>\n",
       "      <th></th>\n",
       "      <th></th>\n",
       "      <th></th>\n",
       "      <th></th>\n",
       "      <th></th>\n",
       "      <th></th>\n",
       "      <th></th>\n",
       "      <th></th>\n",
       "    </tr>\n",
       "  </thead>\n",
       "  <tbody>\n",
       "    <tr>\n",
       "      <th>0</th>\n",
       "      <td>male</td>\n",
       "      <td>36</td>\n",
       "      <td>189.0</td>\n",
       "      <td>82.0</td>\n",
       "      <td>26.0</td>\n",
       "      <td>101.0</td>\n",
       "      <td>41.0</td>\n",
       "      <td>150.0</td>\n",
       "    </tr>\n",
       "    <tr>\n",
       "      <th>1</th>\n",
       "      <td>female</td>\n",
       "      <td>64</td>\n",
       "      <td>163.0</td>\n",
       "      <td>60.0</td>\n",
       "      <td>8.0</td>\n",
       "      <td>85.0</td>\n",
       "      <td>39.7</td>\n",
       "      <td>34.0</td>\n",
       "    </tr>\n",
       "    <tr>\n",
       "      <th>2</th>\n",
       "      <td>female</td>\n",
       "      <td>51</td>\n",
       "      <td>161.0</td>\n",
       "      <td>64.0</td>\n",
       "      <td>7.0</td>\n",
       "      <td>84.0</td>\n",
       "      <td>39.8</td>\n",
       "      <td>29.0</td>\n",
       "    </tr>\n",
       "    <tr>\n",
       "      <th>3</th>\n",
       "      <td>male</td>\n",
       "      <td>20</td>\n",
       "      <td>192.0</td>\n",
       "      <td>90.0</td>\n",
       "      <td>25.0</td>\n",
       "      <td>105.0</td>\n",
       "      <td>40.7</td>\n",
       "      <td>140.0</td>\n",
       "    </tr>\n",
       "    <tr>\n",
       "      <th>4</th>\n",
       "      <td>female</td>\n",
       "      <td>38</td>\n",
       "      <td>166.0</td>\n",
       "      <td>61.0</td>\n",
       "      <td>25.0</td>\n",
       "      <td>102.0</td>\n",
       "      <td>40.6</td>\n",
       "      <td>146.0</td>\n",
       "    </tr>\n",
       "  </tbody>\n",
       "</table>\n",
       "</div>"
      ],
      "text/plain": [
       "       Sex  Age  Height  Weight  Duration  Heart_Rate  Body_Temp  Calories\n",
       "id                                                                        \n",
       "0     male   36   189.0    82.0      26.0       101.0       41.0     150.0\n",
       "1   female   64   163.0    60.0       8.0        85.0       39.7      34.0\n",
       "2   female   51   161.0    64.0       7.0        84.0       39.8      29.0\n",
       "3     male   20   192.0    90.0      25.0       105.0       40.7     140.0\n",
       "4   female   38   166.0    61.0      25.0       102.0       40.6     146.0"
      ]
     },
     "execution_count": 3,
     "metadata": {},
     "output_type": "execute_result"
    }
   ],
   "source": [
    "df.head()"
   ]
  },
  {
   "cell_type": "code",
   "execution_count": 4,
   "id": "a63dbf4c",
   "metadata": {
    "execution": {
     "iopub.execute_input": "2025-05-01T07:25:18.235816Z",
     "iopub.status.busy": "2025-05-01T07:25:18.235505Z",
     "iopub.status.idle": "2025-05-01T07:25:18.241691Z",
     "shell.execute_reply": "2025-05-01T07:25:18.240720Z"
    },
    "papermill": {
     "duration": 0.013625,
     "end_time": "2025-05-01T07:25:18.243613",
     "exception": false,
     "start_time": "2025-05-01T07:25:18.229988",
     "status": "completed"
    },
    "tags": []
   },
   "outputs": [
    {
     "data": {
      "text/plain": [
       "(750000, 8)"
      ]
     },
     "execution_count": 4,
     "metadata": {},
     "output_type": "execute_result"
    }
   ],
   "source": [
    "df.shape"
   ]
  },
  {
   "cell_type": "markdown",
   "id": "94cec91f",
   "metadata": {
    "papermill": {
     "duration": 0.004172,
     "end_time": "2025-05-01T07:25:18.252476",
     "exception": false,
     "start_time": "2025-05-01T07:25:18.248304",
     "status": "completed"
    },
    "tags": []
   },
   "source": [
    "# Exploring the dataset:"
   ]
  },
  {
   "cell_type": "code",
   "execution_count": 5,
   "id": "5d7ab8c2",
   "metadata": {
    "execution": {
     "iopub.execute_input": "2025-05-01T07:25:18.263123Z",
     "iopub.status.busy": "2025-05-01T07:25:18.262833Z",
     "iopub.status.idle": "2025-05-01T07:25:18.347867Z",
     "shell.execute_reply": "2025-05-01T07:25:18.346908Z"
    },
    "papermill": {
     "duration": 0.092675,
     "end_time": "2025-05-01T07:25:18.349494",
     "exception": false,
     "start_time": "2025-05-01T07:25:18.256819",
     "status": "completed"
    },
    "tags": []
   },
   "outputs": [
    {
     "name": "stdout",
     "output_type": "stream",
     "text": [
      "<class 'pandas.core.frame.DataFrame'>\n",
      "Index: 750000 entries, 0 to 749999\n",
      "Data columns (total 8 columns):\n",
      " #   Column      Non-Null Count   Dtype  \n",
      "---  ------      --------------   -----  \n",
      " 0   Sex         750000 non-null  object \n",
      " 1   Age         750000 non-null  int64  \n",
      " 2   Height      750000 non-null  float64\n",
      " 3   Weight      750000 non-null  float64\n",
      " 4   Duration    750000 non-null  float64\n",
      " 5   Heart_Rate  750000 non-null  float64\n",
      " 6   Body_Temp   750000 non-null  float64\n",
      " 7   Calories    750000 non-null  float64\n",
      "dtypes: float64(6), int64(1), object(1)\n",
      "memory usage: 51.5+ MB\n"
     ]
    }
   ],
   "source": [
    "df.info()"
   ]
  },
  {
   "cell_type": "code",
   "execution_count": 6,
   "id": "3cf291b2",
   "metadata": {
    "execution": {
     "iopub.execute_input": "2025-05-01T07:25:18.359274Z",
     "iopub.status.busy": "2025-05-01T07:25:18.358504Z",
     "iopub.status.idle": "2025-05-01T07:25:18.430208Z",
     "shell.execute_reply": "2025-05-01T07:25:18.429273Z"
    },
    "papermill": {
     "duration": 0.078169,
     "end_time": "2025-05-01T07:25:18.431824",
     "exception": false,
     "start_time": "2025-05-01T07:25:18.353655",
     "status": "completed"
    },
    "tags": []
   },
   "outputs": [
    {
     "data": {
      "text/plain": [
       "Sex           0\n",
       "Age           0\n",
       "Height        0\n",
       "Weight        0\n",
       "Duration      0\n",
       "Heart_Rate    0\n",
       "Body_Temp     0\n",
       "Calories      0\n",
       "dtype: int64"
      ]
     },
     "execution_count": 6,
     "metadata": {},
     "output_type": "execute_result"
    }
   ],
   "source": [
    "df.isnull().sum()"
   ]
  },
  {
   "cell_type": "code",
   "execution_count": 7,
   "id": "69172b20",
   "metadata": {
    "execution": {
     "iopub.execute_input": "2025-05-01T07:25:18.442897Z",
     "iopub.status.busy": "2025-05-01T07:25:18.441895Z",
     "iopub.status.idle": "2025-05-01T07:25:18.701067Z",
     "shell.execute_reply": "2025-05-01T07:25:18.700247Z"
    },
    "papermill": {
     "duration": 0.266136,
     "end_time": "2025-05-01T07:25:18.702612",
     "exception": false,
     "start_time": "2025-05-01T07:25:18.436476",
     "status": "completed"
    },
    "tags": []
   },
   "outputs": [
    {
     "data": {
      "text/html": [
       "<div>\n",
       "<style scoped>\n",
       "    .dataframe tbody tr th:only-of-type {\n",
       "        vertical-align: middle;\n",
       "    }\n",
       "\n",
       "    .dataframe tbody tr th {\n",
       "        vertical-align: top;\n",
       "    }\n",
       "\n",
       "    .dataframe thead th {\n",
       "        text-align: right;\n",
       "    }\n",
       "</style>\n",
       "<table border=\"1\" class=\"dataframe\">\n",
       "  <thead>\n",
       "    <tr style=\"text-align: right;\">\n",
       "      <th></th>\n",
       "      <th>Age</th>\n",
       "      <th>Height</th>\n",
       "      <th>Weight</th>\n",
       "      <th>Duration</th>\n",
       "      <th>Heart_Rate</th>\n",
       "      <th>Body_Temp</th>\n",
       "      <th>Calories</th>\n",
       "    </tr>\n",
       "  </thead>\n",
       "  <tbody>\n",
       "    <tr>\n",
       "      <th>count</th>\n",
       "      <td>750000.000000</td>\n",
       "      <td>750000.000000</td>\n",
       "      <td>750000.000000</td>\n",
       "      <td>750000.000000</td>\n",
       "      <td>750000.000000</td>\n",
       "      <td>750000.000000</td>\n",
       "      <td>750000.000000</td>\n",
       "    </tr>\n",
       "    <tr>\n",
       "      <th>mean</th>\n",
       "      <td>41.420404</td>\n",
       "      <td>174.697685</td>\n",
       "      <td>75.145668</td>\n",
       "      <td>15.421015</td>\n",
       "      <td>95.483995</td>\n",
       "      <td>40.036253</td>\n",
       "      <td>88.282781</td>\n",
       "    </tr>\n",
       "    <tr>\n",
       "      <th>std</th>\n",
       "      <td>15.175049</td>\n",
       "      <td>12.824496</td>\n",
       "      <td>13.982704</td>\n",
       "      <td>8.354095</td>\n",
       "      <td>9.449845</td>\n",
       "      <td>0.779875</td>\n",
       "      <td>62.395349</td>\n",
       "    </tr>\n",
       "    <tr>\n",
       "      <th>min</th>\n",
       "      <td>20.000000</td>\n",
       "      <td>126.000000</td>\n",
       "      <td>36.000000</td>\n",
       "      <td>1.000000</td>\n",
       "      <td>67.000000</td>\n",
       "      <td>37.100000</td>\n",
       "      <td>1.000000</td>\n",
       "    </tr>\n",
       "    <tr>\n",
       "      <th>25%</th>\n",
       "      <td>28.000000</td>\n",
       "      <td>164.000000</td>\n",
       "      <td>63.000000</td>\n",
       "      <td>8.000000</td>\n",
       "      <td>88.000000</td>\n",
       "      <td>39.600000</td>\n",
       "      <td>34.000000</td>\n",
       "    </tr>\n",
       "    <tr>\n",
       "      <th>50%</th>\n",
       "      <td>40.000000</td>\n",
       "      <td>174.000000</td>\n",
       "      <td>74.000000</td>\n",
       "      <td>15.000000</td>\n",
       "      <td>95.000000</td>\n",
       "      <td>40.300000</td>\n",
       "      <td>77.000000</td>\n",
       "    </tr>\n",
       "    <tr>\n",
       "      <th>75%</th>\n",
       "      <td>52.000000</td>\n",
       "      <td>185.000000</td>\n",
       "      <td>87.000000</td>\n",
       "      <td>23.000000</td>\n",
       "      <td>103.000000</td>\n",
       "      <td>40.700000</td>\n",
       "      <td>136.000000</td>\n",
       "    </tr>\n",
       "    <tr>\n",
       "      <th>max</th>\n",
       "      <td>79.000000</td>\n",
       "      <td>222.000000</td>\n",
       "      <td>132.000000</td>\n",
       "      <td>30.000000</td>\n",
       "      <td>128.000000</td>\n",
       "      <td>41.500000</td>\n",
       "      <td>314.000000</td>\n",
       "    </tr>\n",
       "  </tbody>\n",
       "</table>\n",
       "</div>"
      ],
      "text/plain": [
       "                 Age         Height         Weight       Duration  \\\n",
       "count  750000.000000  750000.000000  750000.000000  750000.000000   \n",
       "mean       41.420404     174.697685      75.145668      15.421015   \n",
       "std        15.175049      12.824496      13.982704       8.354095   \n",
       "min        20.000000     126.000000      36.000000       1.000000   \n",
       "25%        28.000000     164.000000      63.000000       8.000000   \n",
       "50%        40.000000     174.000000      74.000000      15.000000   \n",
       "75%        52.000000     185.000000      87.000000      23.000000   \n",
       "max        79.000000     222.000000     132.000000      30.000000   \n",
       "\n",
       "          Heart_Rate      Body_Temp       Calories  \n",
       "count  750000.000000  750000.000000  750000.000000  \n",
       "mean       95.483995      40.036253      88.282781  \n",
       "std         9.449845       0.779875      62.395349  \n",
       "min        67.000000      37.100000       1.000000  \n",
       "25%        88.000000      39.600000      34.000000  \n",
       "50%        95.000000      40.300000      77.000000  \n",
       "75%       103.000000      40.700000     136.000000  \n",
       "max       128.000000      41.500000     314.000000  "
      ]
     },
     "execution_count": 7,
     "metadata": {},
     "output_type": "execute_result"
    }
   ],
   "source": [
    "df.describe()"
   ]
  },
  {
   "cell_type": "markdown",
   "id": "6e7898eb",
   "metadata": {
    "papermill": {
     "duration": 0.004023,
     "end_time": "2025-05-01T07:25:18.711380",
     "exception": false,
     "start_time": "2025-05-01T07:25:18.707357",
     "status": "completed"
    },
    "tags": []
   },
   "source": [
    "# Encoding the categorical_column:"
   ]
  },
  {
   "cell_type": "code",
   "execution_count": 8,
   "id": "497e403a",
   "metadata": {
    "execution": {
     "iopub.execute_input": "2025-05-01T07:25:18.720853Z",
     "iopub.status.busy": "2025-05-01T07:25:18.720466Z",
     "iopub.status.idle": "2025-05-01T07:25:20.273484Z",
     "shell.execute_reply": "2025-05-01T07:25:20.272206Z"
    },
    "papermill": {
     "duration": 1.560197,
     "end_time": "2025-05-01T07:25:20.275665",
     "exception": false,
     "start_time": "2025-05-01T07:25:18.715468",
     "status": "completed"
    },
    "tags": []
   },
   "outputs": [],
   "source": [
    "from sklearn.preprocessing import LabelEncoder"
   ]
  },
  {
   "cell_type": "code",
   "execution_count": 9,
   "id": "0652bafa",
   "metadata": {
    "execution": {
     "iopub.execute_input": "2025-05-01T07:25:20.287449Z",
     "iopub.status.busy": "2025-05-01T07:25:20.286882Z",
     "iopub.status.idle": "2025-05-01T07:25:20.291976Z",
     "shell.execute_reply": "2025-05-01T07:25:20.290942Z"
    },
    "papermill": {
     "duration": 0.013062,
     "end_time": "2025-05-01T07:25:20.293765",
     "exception": false,
     "start_time": "2025-05-01T07:25:20.280703",
     "status": "completed"
    },
    "tags": []
   },
   "outputs": [],
   "source": [
    "le=LabelEncoder()"
   ]
  },
  {
   "cell_type": "code",
   "execution_count": 10,
   "id": "d805e4c6",
   "metadata": {
    "execution": {
     "iopub.execute_input": "2025-05-01T07:25:20.305299Z",
     "iopub.status.busy": "2025-05-01T07:25:20.304899Z",
     "iopub.status.idle": "2025-05-01T07:25:20.468840Z",
     "shell.execute_reply": "2025-05-01T07:25:20.467887Z"
    },
    "papermill": {
     "duration": 0.17158,
     "end_time": "2025-05-01T07:25:20.470653",
     "exception": false,
     "start_time": "2025-05-01T07:25:20.299073",
     "status": "completed"
    },
    "tags": []
   },
   "outputs": [],
   "source": [
    "df['Sex']=le.fit_transform(df['Sex'])"
   ]
  },
  {
   "cell_type": "code",
   "execution_count": 11,
   "id": "8e3a57aa",
   "metadata": {
    "execution": {
     "iopub.execute_input": "2025-05-01T07:25:20.480951Z",
     "iopub.status.busy": "2025-05-01T07:25:20.480649Z",
     "iopub.status.idle": "2025-05-01T07:25:20.495102Z",
     "shell.execute_reply": "2025-05-01T07:25:20.494064Z"
    },
    "papermill": {
     "duration": 0.02151,
     "end_time": "2025-05-01T07:25:20.496807",
     "exception": false,
     "start_time": "2025-05-01T07:25:20.475297",
     "status": "completed"
    },
    "tags": []
   },
   "outputs": [
    {
     "data": {
      "text/html": [
       "<div>\n",
       "<style scoped>\n",
       "    .dataframe tbody tr th:only-of-type {\n",
       "        vertical-align: middle;\n",
       "    }\n",
       "\n",
       "    .dataframe tbody tr th {\n",
       "        vertical-align: top;\n",
       "    }\n",
       "\n",
       "    .dataframe thead th {\n",
       "        text-align: right;\n",
       "    }\n",
       "</style>\n",
       "<table border=\"1\" class=\"dataframe\">\n",
       "  <thead>\n",
       "    <tr style=\"text-align: right;\">\n",
       "      <th></th>\n",
       "      <th>Sex</th>\n",
       "      <th>Age</th>\n",
       "      <th>Height</th>\n",
       "      <th>Weight</th>\n",
       "      <th>Duration</th>\n",
       "      <th>Heart_Rate</th>\n",
       "      <th>Body_Temp</th>\n",
       "      <th>Calories</th>\n",
       "    </tr>\n",
       "    <tr>\n",
       "      <th>id</th>\n",
       "      <th></th>\n",
       "      <th></th>\n",
       "      <th></th>\n",
       "      <th></th>\n",
       "      <th></th>\n",
       "      <th></th>\n",
       "      <th></th>\n",
       "      <th></th>\n",
       "    </tr>\n",
       "  </thead>\n",
       "  <tbody>\n",
       "    <tr>\n",
       "      <th>0</th>\n",
       "      <td>1</td>\n",
       "      <td>36</td>\n",
       "      <td>189.0</td>\n",
       "      <td>82.0</td>\n",
       "      <td>26.0</td>\n",
       "      <td>101.0</td>\n",
       "      <td>41.0</td>\n",
       "      <td>150.0</td>\n",
       "    </tr>\n",
       "    <tr>\n",
       "      <th>1</th>\n",
       "      <td>0</td>\n",
       "      <td>64</td>\n",
       "      <td>163.0</td>\n",
       "      <td>60.0</td>\n",
       "      <td>8.0</td>\n",
       "      <td>85.0</td>\n",
       "      <td>39.7</td>\n",
       "      <td>34.0</td>\n",
       "    </tr>\n",
       "    <tr>\n",
       "      <th>2</th>\n",
       "      <td>0</td>\n",
       "      <td>51</td>\n",
       "      <td>161.0</td>\n",
       "      <td>64.0</td>\n",
       "      <td>7.0</td>\n",
       "      <td>84.0</td>\n",
       "      <td>39.8</td>\n",
       "      <td>29.0</td>\n",
       "    </tr>\n",
       "    <tr>\n",
       "      <th>3</th>\n",
       "      <td>1</td>\n",
       "      <td>20</td>\n",
       "      <td>192.0</td>\n",
       "      <td>90.0</td>\n",
       "      <td>25.0</td>\n",
       "      <td>105.0</td>\n",
       "      <td>40.7</td>\n",
       "      <td>140.0</td>\n",
       "    </tr>\n",
       "    <tr>\n",
       "      <th>4</th>\n",
       "      <td>0</td>\n",
       "      <td>38</td>\n",
       "      <td>166.0</td>\n",
       "      <td>61.0</td>\n",
       "      <td>25.0</td>\n",
       "      <td>102.0</td>\n",
       "      <td>40.6</td>\n",
       "      <td>146.0</td>\n",
       "    </tr>\n",
       "  </tbody>\n",
       "</table>\n",
       "</div>"
      ],
      "text/plain": [
       "    Sex  Age  Height  Weight  Duration  Heart_Rate  Body_Temp  Calories\n",
       "id                                                                     \n",
       "0     1   36   189.0    82.0      26.0       101.0       41.0     150.0\n",
       "1     0   64   163.0    60.0       8.0        85.0       39.7      34.0\n",
       "2     0   51   161.0    64.0       7.0        84.0       39.8      29.0\n",
       "3     1   20   192.0    90.0      25.0       105.0       40.7     140.0\n",
       "4     0   38   166.0    61.0      25.0       102.0       40.6     146.0"
      ]
     },
     "execution_count": 11,
     "metadata": {},
     "output_type": "execute_result"
    }
   ],
   "source": [
    "df.head()"
   ]
  },
  {
   "cell_type": "markdown",
   "id": "a424e189",
   "metadata": {
    "papermill": {
     "duration": 0.004139,
     "end_time": "2025-05-01T07:25:20.505842",
     "exception": false,
     "start_time": "2025-05-01T07:25:20.501703",
     "status": "completed"
    },
    "tags": []
   },
   "source": [
    "# plotting the Distribution:"
   ]
  },
  {
   "cell_type": "markdown",
   "id": "38776305",
   "metadata": {
    "papermill": {
     "duration": 0.00403,
     "end_time": "2025-05-01T07:25:20.514112",
     "exception": false,
     "start_time": "2025-05-01T07:25:20.510082",
     "status": "completed"
    },
    "tags": []
   },
   "source": [
    "### For Age columns:"
   ]
  },
  {
   "cell_type": "code",
   "execution_count": 12,
   "id": "d757b3f6",
   "metadata": {
    "execution": {
     "iopub.execute_input": "2025-05-01T07:25:20.524308Z",
     "iopub.status.busy": "2025-05-01T07:25:20.523978Z",
     "iopub.status.idle": "2025-05-01T07:25:21.145876Z",
     "shell.execute_reply": "2025-05-01T07:25:21.144770Z"
    },
    "papermill": {
     "duration": 0.629468,
     "end_time": "2025-05-01T07:25:21.147772",
     "exception": false,
     "start_time": "2025-05-01T07:25:20.518304",
     "status": "completed"
    },
    "tags": []
   },
   "outputs": [],
   "source": [
    "import seaborn as sns\n",
    "import matplotlib.pyplot as plt"
   ]
  },
  {
   "cell_type": "code",
   "execution_count": 13,
   "id": "73abde1a",
   "metadata": {
    "execution": {
     "iopub.execute_input": "2025-05-01T07:25:21.158312Z",
     "iopub.status.busy": "2025-05-01T07:25:21.157862Z",
     "iopub.status.idle": "2025-05-01T07:25:24.777133Z",
     "shell.execute_reply": "2025-05-01T07:25:24.776255Z"
    },
    "papermill": {
     "duration": 3.626678,
     "end_time": "2025-05-01T07:25:24.779079",
     "exception": false,
     "start_time": "2025-05-01T07:25:21.152401",
     "status": "completed"
    },
    "tags": []
   },
   "outputs": [
    {
     "name": "stderr",
     "output_type": "stream",
     "text": [
      "/usr/local/lib/python3.11/dist-packages/seaborn/_oldcore.py:1119: FutureWarning: use_inf_as_na option is deprecated and will be removed in a future version. Convert inf values to NaN before operating instead.\n",
      "  with pd.option_context('mode.use_inf_as_na', True):\n"
     ]
    },
    {
     "data": {
      "image/png": "[encoded data removed]",
      "text/plain": [
       "<Figure size 500x500 with 1 Axes>"
      ]
     },
     "metadata": {},
     "output_type": "display_data"
    }
   ],
   "source": [
    "sns.displot(df['Age'],kde=True)\n",
    "plt.show()"
   ]
  },
  {
   "cell_type": "code",
   "execution_count": 14,
   "id": "211c6b1a",
   "metadata": {
    "execution": {
     "iopub.execute_input": "2025-05-01T07:25:24.791023Z",
     "iopub.status.busy": "2025-05-01T07:25:24.790702Z",
     "iopub.status.idle": "2025-05-01T07:25:24.958638Z",
     "shell.execute_reply": "2025-05-01T07:25:24.957777Z"
    },
    "papermill": {
     "duration": 0.175655,
     "end_time": "2025-05-01T07:25:24.960154",
     "exception": false,
     "start_time": "2025-05-01T07:25:24.784499",
     "status": "completed"
    },
    "tags": []
   },
   "outputs": [
    {
     "data": {
      "text/plain": [
       "<Axes: >"
      ]
     },
     "execution_count": 14,
     "metadata": {},
     "output_type": "execute_result"
    },
    {
     "data": {
      "image/png": "[encoded data removed]",
      "text/plain": [
       "<Figure size 640x480 with 1 Axes>"
      ]
     },
     "metadata": {},
     "output_type": "display_data"
    }
   ],
   "source": [
    "sns.boxplot(df['Age'])"
   ]
  },
  {
   "cell_type": "code",
   "execution_count": 15,
   "id": "5955b859",
   "metadata": {
    "execution": {
     "iopub.execute_input": "2025-05-01T07:25:24.972197Z",
     "iopub.status.busy": "2025-05-01T07:25:24.971863Z",
     "iopub.status.idle": "2025-05-01T07:26:09.551125Z",
     "shell.execute_reply": "2025-05-01T07:26:09.550123Z"
    },
    "papermill": {
     "duration": 44.58686,
     "end_time": "2025-05-01T07:26:09.552623",
     "exception": false,
     "start_time": "2025-05-01T07:25:24.965763",
     "status": "completed"
    },
    "tags": []
   },
   "outputs": [
    {
     "data": {
      "text/plain": [
       "<Axes: xlabel='Calories', ylabel='Age'>"
      ]
     },
     "execution_count": 15,
     "metadata": {},
     "output_type": "execute_result"
    },
    {
     "data": {
      "image/png": "[encoded data removed]",
      "text/plain": [
       "<Figure size 640x480 with 1 Axes>"
      ]
     },
     "metadata": {},
     "output_type": "display_data"
    }
   ],
   "source": [
    "sns.regplot(y=df['Age'],x=df['Calories'])"
   ]
  },
  {
   "cell_type": "code",
   "execution_count": null,
   "id": "92136b3f",
   "metadata": {
    "papermill": {
     "duration": 0.005847,
     "end_time": "2025-05-01T07:26:09.564706",
     "exception": false,
     "start_time": "2025-05-01T07:26:09.558859",
     "status": "completed"
    },
    "tags": []
   },
   "outputs": [],
   "source": []
  }
 ],
 "metadata": {
  "kaggle": {
   "accelerator": "none",
   "dataSources": [
    {
     "databundleVersionId": 11893428,
     "sourceId": 91716,
     "sourceType": "competition"
    }
   ],
   "dockerImageVersionId": 31012,
   "isGpuEnabled": false,
   "isInternetEnabled": true,
   "language": "python",
   "sourceType": "notebook"
  },
  "kernelspec": {
   "display_name": "Python 3",
   "language": "python",
   "name": "python3"
  },
  "language_info": {
   "codemirror_mode": {
    "name": "ipython",
    "version": 3
   },
   "file_extension": ".py",
   "mimetype": "text/x-python",
   "name": "python",
   "nbconvert_exporter": "python",
   "pygments_lexer": "ipython3",
   "version": "3.11.11"
  },
  "papermill": {
   "default_parameters": {},
   "duration": 59.983006,
   "end_time": "2025-05-01T07:26:10.291279",
   "environment_variables": {},
   "exception": null,
   "input_path": "__notebook__.ipynb",
   "output_path": "__notebook__.ipynb",
   "parameters": {},
   "start_time": "2025-05-01T07:25:10.308273",
   "version": "2.6.0"
  }
 },
 "nbformat": 4,
 "nbformat_minor": 5
}
