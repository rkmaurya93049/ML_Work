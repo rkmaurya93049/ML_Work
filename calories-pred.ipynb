{
 "cells": [
  {
   "cell_type": "code",
   "execution_count": 1,
   "id": "ed7b7089",
   "metadata": {
    "_cell_guid": "b1076dfc-b9ad-4769-8c92-a6c4dae69d19",
    "_uuid": "8f2839f25d086af736a60e9eeb907d3b93b6e0e5",
    "execution": {
     "iopub.execute_input": "2025-05-01T11:49:20.945480Z",
     "iopub.status.busy": "2025-05-01T11:49:20.945176Z",
     "iopub.status.idle": "2025-05-01T11:49:22.846635Z",
     "shell.execute_reply": "2025-05-01T11:49:22.845642Z"
    },
    "papermill": {
     "duration": 1.916244,
     "end_time": "2025-05-01T11:49:22.848546",
     "exception": false,
     "start_time": "2025-05-01T11:49:20.932302",
     "status": "completed"
    },
    "tags": []
   },
   "outputs": [],
   "source": [
    "import pandas as pd\n",
    "import numpy as np"
   ]
  },
  {
   "cell_type": "markdown",
   "id": "8c43c092",
   "metadata": {
    "papermill": {
     "duration": 0.009443,
     "end_time": "2025-05-01T11:49:22.868407",
     "exception": false,
     "start_time": "2025-05-01T11:49:22.858964",
     "status": "completed"
    },
    "tags": []
   },
   "source": [
    "# Uploading the dataset:"
   ]
  },
  {
   "cell_type": "code",
   "execution_count": 2,
   "id": "fb8b7221",
   "metadata": {
    "execution": {
     "iopub.execute_input": "2025-05-01T11:49:22.889049Z",
     "iopub.status.busy": "2025-05-01T11:49:22.888572Z",
     "iopub.status.idle": "2025-05-01T11:49:23.895014Z",
     "shell.execute_reply": "2025-05-01T11:49:23.894048Z"
    },
    "papermill": {
     "duration": 1.018806,
     "end_time": "2025-05-01T11:49:23.896881",
     "exception": false,
     "start_time": "2025-05-01T11:49:22.878075",
     "status": "completed"
    },
    "tags": []
   },
   "outputs": [],
   "source": [
    "df=pd.read_csv(\"/kaggle/input/playground-series-s5e5/train.csv\",index_col=0)"
   ]
  },
  {
   "cell_type": "code",
   "execution_count": 3,
   "id": "13b5b5b9",
   "metadata": {
    "execution": {
     "iopub.execute_input": "2025-05-01T11:49:23.920597Z",
     "iopub.status.busy": "2025-05-01T11:49:23.920293Z",
     "iopub.status.idle": "2025-05-01T11:49:23.944808Z",
     "shell.execute_reply": "2025-05-01T11:49:23.943749Z"
    },
    "papermill": {
     "duration": 0.036975,
     "end_time": "2025-05-01T11:49:23.946319",
     "exception": false,
     "start_time": "2025-05-01T11:49:23.909344",
     "status": "completed"
    },
    "tags": []
   },
   "outputs": [
    {
     "data": {
      "text/html": [
       "<div>\n",
       "<style scoped>\n",
       "    .dataframe tbody tr th:only-of-type {\n",
       "        vertical-align: middle;\n",
       "    }\n",
       "\n",
       "    .dataframe tbody tr th {\n",
       "        vertical-align: top;\n",
       "    }\n",
       "\n",
       "    .dataframe thead th {\n",
       "        text-align: right;\n",
       "    }\n",
       "</style>\n",
       "<table border=\"1\" class=\"dataframe\">\n",
       "  <thead>\n",
       "    <tr style=\"text-align: right;\">\n",
       "      <th></th>\n",
       "      <th>Sex</th>\n",
       "      <th>Age</th>\n",
       "      <th>Height</th>\n",
       "      <th>Weight</th>\n",
       "      <th>Duration</th>\n",
       "      <th>Heart_Rate</th>\n",
       "      <th>Body_Temp</th>\n",
       "      <th>Calories</th>\n",
       "    </tr>\n",
       "    <tr>\n",
       "      <th>id</th>\n",
       "      <th></th>\n",
       "      <th></th>\n",
       "      <th></th>\n",
       "      <th></th>\n",
       "      <th></th>\n",
       "      <th></th>\n",
       "      <th></th>\n",
       "      <th></th>\n",
       "    </tr>\n",
       "  </thead>\n",
       "  <tbody>\n",
       "    <tr>\n",
       "      <th>0</th>\n",
       "      <td>male</td>\n",
       "      <td>36</td>\n",
       "      <td>189.0</td>\n",
       "      <td>82.0</td>\n",
       "      <td>26.0</td>\n",
       "      <td>101.0</td>\n",
       "      <td>41.0</td>\n",
       "      <td>150.0</td>\n",
       "    </tr>\n",
       "    <tr>\n",
       "      <th>1</th>\n",
       "      <td>female</td>\n",
       "      <td>64</td>\n",
       "      <td>163.0</td>\n",
       "      <td>60.0</td>\n",
       "      <td>8.0</td>\n",
       "      <td>85.0</td>\n",
       "      <td>39.7</td>\n",
       "      <td>34.0</td>\n",
       "    </tr>\n",
       "    <tr>\n",
       "      <th>2</th>\n",
       "      <td>female</td>\n",
       "      <td>51</td>\n",
       "      <td>161.0</td>\n",
       "      <td>64.0</td>\n",
       "      <td>7.0</td>\n",
       "      <td>84.0</td>\n",
       "      <td>39.8</td>\n",
       "      <td>29.0</td>\n",
       "    </tr>\n",
       "    <tr>\n",
       "      <th>3</th>\n",
       "      <td>male</td>\n",
       "      <td>20</td>\n",
       "      <td>192.0</td>\n",
       "      <td>90.0</td>\n",
       "      <td>25.0</td>\n",
       "      <td>105.0</td>\n",
       "      <td>40.7</td>\n",
       "      <td>140.0</td>\n",
       "    </tr>\n",
       "    <tr>\n",
       "      <th>4</th>\n",
       "      <td>female</td>\n",
       "      <td>38</td>\n",
       "      <td>166.0</td>\n",
       "      <td>61.0</td>\n",
       "      <td>25.0</td>\n",
       "      <td>102.0</td>\n",
       "      <td>40.6</td>\n",
       "      <td>146.0</td>\n",
       "    </tr>\n",
       "  </tbody>\n",
       "</table>\n",
       "</div>"
      ],
      "text/plain": [
       "       Sex  Age  Height  Weight  Duration  Heart_Rate  Body_Temp  Calories\n",
       "id                                                                        \n",
       "0     male   36   189.0    82.0      26.0       101.0       41.0     150.0\n",
       "1   female   64   163.0    60.0       8.0        85.0       39.7      34.0\n",
       "2   female   51   161.0    64.0       7.0        84.0       39.8      29.0\n",
       "3     male   20   192.0    90.0      25.0       105.0       40.7     140.0\n",
       "4   female   38   166.0    61.0      25.0       102.0       40.6     146.0"
      ]
     },
     "execution_count": 3,
     "metadata": {},
     "output_type": "execute_result"
    }
   ],
   "source": [
    "df.head()"
   ]
  },
  {
   "cell_type": "code",
   "execution_count": 4,
   "id": "0edeed33",
   "metadata": {
    "execution": {
     "iopub.execute_input": "2025-05-01T11:49:23.967030Z",
     "iopub.status.busy": "2025-05-01T11:49:23.966671Z",
     "iopub.status.idle": "2025-05-01T11:49:23.972107Z",
     "shell.execute_reply": "2025-05-01T11:49:23.971385Z"
    },
    "papermill": {
     "duration": 0.017204,
     "end_time": "2025-05-01T11:49:23.973341",
     "exception": false,
     "start_time": "2025-05-01T11:49:23.956137",
     "status": "completed"
    },
    "tags": []
   },
   "outputs": [
    {
     "data": {
      "text/plain": [
       "(750000, 8)"
      ]
     },
     "execution_count": 4,
     "metadata": {},
     "output_type": "execute_result"
    }
   ],
   "source": [
    "df.shape"
   ]
  },
  {
   "cell_type": "markdown",
   "id": "b3b98bc8",
   "metadata": {
    "papermill": {
     "duration": 0.009144,
     "end_time": "2025-05-01T11:49:23.992131",
     "exception": false,
     "start_time": "2025-05-01T11:49:23.982987",
     "status": "completed"
    },
    "tags": []
   },
   "source": [
    "# Exploring the dataset:"
   ]
  },
  {
   "cell_type": "code",
   "execution_count": 5,
   "id": "bcbe8e82",
   "metadata": {
    "execution": {
     "iopub.execute_input": "2025-05-01T11:49:24.012430Z",
     "iopub.status.busy": "2025-05-01T11:49:24.012126Z",
     "iopub.status.idle": "2025-05-01T11:49:24.096257Z",
     "shell.execute_reply": "2025-05-01T11:49:24.095171Z"
    },
    "papermill": {
     "duration": 0.096173,
     "end_time": "2025-05-01T11:49:24.097818",
     "exception": false,
     "start_time": "2025-05-01T11:49:24.001645",
     "status": "completed"
    },
    "tags": []
   },
   "outputs": [
    {
     "name": "stdout",
     "output_type": "stream",
     "text": [
      "<class 'pandas.core.frame.DataFrame'>\n",
      "Index: 750000 entries, 0 to 749999\n",
      "Data columns (total 8 columns):\n",
      " #   Column      Non-Null Count   Dtype  \n",
      "---  ------      --------------   -----  \n",
      " 0   Sex         750000 non-null  object \n",
      " 1   Age         750000 non-null  int64  \n",
      " 2   Height      750000 non-null  float64\n",
      " 3   Weight      750000 non-null  float64\n",
      " 4   Duration    750000 non-null  float64\n",
      " 5   Heart_Rate  750000 non-null  float64\n",
      " 6   Body_Temp   750000 non-null  float64\n",
      " 7   Calories    750000 non-null  float64\n",
      "dtypes: float64(6), int64(1), object(1)\n",
      "memory usage: 51.5+ MB\n"
     ]
    }
   ],
   "source": [
    "df.info()"
   ]
  },
  {
   "cell_type": "code",
   "execution_count": 6,
   "id": "c5d8fd1e",
   "metadata": {
    "execution": {
     "iopub.execute_input": "2025-05-01T11:49:24.118326Z",
     "iopub.status.busy": "2025-05-01T11:49:24.118054Z",
     "iopub.status.idle": "2025-05-01T11:49:24.191584Z",
     "shell.execute_reply": "2025-05-01T11:49:24.190744Z"
    },
    "papermill": {
     "duration": 0.086239,
     "end_time": "2025-05-01T11:49:24.193585",
     "exception": false,
     "start_time": "2025-05-01T11:49:24.107346",
     "status": "completed"
    },
    "tags": []
   },
   "outputs": [
    {
     "data": {
      "text/plain": [
       "Sex           0\n",
       "Age           0\n",
       "Height        0\n",
       "Weight        0\n",
       "Duration      0\n",
       "Heart_Rate    0\n",
       "Body_Temp     0\n",
       "Calories      0\n",
       "dtype: int64"
      ]
     },
     "execution_count": 6,
     "metadata": {},
     "output_type": "execute_result"
    }
   ],
   "source": [
    "df.isnull().sum()"
   ]
  },
  {
   "cell_type": "code",
   "execution_count": 7,
   "id": "571dab12",
   "metadata": {
    "execution": {
     "iopub.execute_input": "2025-05-01T11:49:24.215288Z",
     "iopub.status.busy": "2025-05-01T11:49:24.214965Z",
     "iopub.status.idle": "2025-05-01T11:49:24.475032Z",
     "shell.execute_reply": "2025-05-01T11:49:24.474101Z"
    },
    "papermill": {
     "duration": 0.272258,
     "end_time": "2025-05-01T11:49:24.476405",
     "exception": false,
     "start_time": "2025-05-01T11:49:24.204147",
     "status": "completed"
    },
    "tags": []
   },
   "outputs": [
    {
     "data": {
      "text/html": [
       "<div>\n",
       "<style scoped>\n",
       "    .dataframe tbody tr th:only-of-type {\n",
       "        vertical-align: middle;\n",
       "    }\n",
       "\n",
       "    .dataframe tbody tr th {\n",
       "        vertical-align: top;\n",
       "    }\n",
       "\n",
       "    .dataframe thead th {\n",
       "        text-align: right;\n",
       "    }\n",
       "</style>\n",
       "<table border=\"1\" class=\"dataframe\">\n",
       "  <thead>\n",
       "    <tr style=\"text-align: right;\">\n",
       "      <th></th>\n",
       "      <th>Age</th>\n",
       "      <th>Height</th>\n",
       "      <th>Weight</th>\n",
       "      <th>Duration</th>\n",
       "      <th>Heart_Rate</th>\n",
       "      <th>Body_Temp</th>\n",
       "      <th>Calories</th>\n",
       "    </tr>\n",
       "  </thead>\n",
       "  <tbody>\n",
       "    <tr>\n",
       "      <th>count</th>\n",
       "      <td>750000.000000</td>\n",
       "      <td>750000.000000</td>\n",
       "      <td>750000.000000</td>\n",
       "      <td>750000.000000</td>\n",
       "      <td>750000.000000</td>\n",
       "      <td>750000.000000</td>\n",
       "      <td>750000.000000</td>\n",
       "    </tr>\n",
       "    <tr>\n",
       "      <th>mean</th>\n",
       "      <td>41.420404</td>\n",
       "      <td>174.697685</td>\n",
       "      <td>75.145668</td>\n",
       "      <td>15.421015</td>\n",
       "      <td>95.483995</td>\n",
       "      <td>40.036253</td>\n",
       "      <td>88.282781</td>\n",
       "    </tr>\n",
       "    <tr>\n",
       "      <th>std</th>\n",
       "      <td>15.175049</td>\n",
       "      <td>12.824496</td>\n",
       "      <td>13.982704</td>\n",
       "      <td>8.354095</td>\n",
       "      <td>9.449845</td>\n",
       "      <td>0.779875</td>\n",
       "      <td>62.395349</td>\n",
       "    </tr>\n",
       "    <tr>\n",
       "      <th>min</th>\n",
       "      <td>20.000000</td>\n",
       "      <td>126.000000</td>\n",
       "      <td>36.000000</td>\n",
       "      <td>1.000000</td>\n",
       "      <td>67.000000</td>\n",
       "      <td>37.100000</td>\n",
       "      <td>1.000000</td>\n",
       "    </tr>\n",
       "    <tr>\n",
       "      <th>25%</th>\n",
       "      <td>28.000000</td>\n",
       "      <td>164.000000</td>\n",
       "      <td>63.000000</td>\n",
       "      <td>8.000000</td>\n",
       "      <td>88.000000</td>\n",
       "      <td>39.600000</td>\n",
       "      <td>34.000000</td>\n",
       "    </tr>\n",
       "    <tr>\n",
       "      <th>50%</th>\n",
       "      <td>40.000000</td>\n",
       "      <td>174.000000</td>\n",
       "      <td>74.000000</td>\n",
       "      <td>15.000000</td>\n",
       "      <td>95.000000</td>\n",
       "      <td>40.300000</td>\n",
       "      <td>77.000000</td>\n",
       "    </tr>\n",
       "    <tr>\n",
       "      <th>75%</th>\n",
       "      <td>52.000000</td>\n",
       "      <td>185.000000</td>\n",
       "      <td>87.000000</td>\n",
       "      <td>23.000000</td>\n",
       "      <td>103.000000</td>\n",
       "      <td>40.700000</td>\n",
       "      <td>136.000000</td>\n",
       "    </tr>\n",
       "    <tr>\n",
       "      <th>max</th>\n",
       "      <td>79.000000</td>\n",
       "      <td>222.000000</td>\n",
       "      <td>132.000000</td>\n",
       "      <td>30.000000</td>\n",
       "      <td>128.000000</td>\n",
       "      <td>41.500000</td>\n",
       "      <td>314.000000</td>\n",
       "    </tr>\n",
       "  </tbody>\n",
       "</table>\n",
       "</div>"
      ],
      "text/plain": [
       "                 Age         Height         Weight       Duration  \\\n",
       "count  750000.000000  750000.000000  750000.000000  750000.000000   \n",
       "mean       41.420404     174.697685      75.145668      15.421015   \n",
       "std        15.175049      12.824496      13.982704       8.354095   \n",
       "min        20.000000     126.000000      36.000000       1.000000   \n",
       "25%        28.000000     164.000000      63.000000       8.000000   \n",
       "50%        40.000000     174.000000      74.000000      15.000000   \n",
       "75%        52.000000     185.000000      87.000000      23.000000   \n",
       "max        79.000000     222.000000     132.000000      30.000000   \n",
       "\n",
       "          Heart_Rate      Body_Temp       Calories  \n",
       "count  750000.000000  750000.000000  750000.000000  \n",
       "mean       95.483995      40.036253      88.282781  \n",
       "std         9.449845       0.779875      62.395349  \n",
       "min        67.000000      37.100000       1.000000  \n",
       "25%        88.000000      39.600000      34.000000  \n",
       "50%        95.000000      40.300000      77.000000  \n",
       "75%       103.000000      40.700000     136.000000  \n",
       "max       128.000000      41.500000     314.000000  "
      ]
     },
     "execution_count": 7,
     "metadata": {},
     "output_type": "execute_result"
    }
   ],
   "source": [
    "df.describe()"
   ]
  },
  {
   "cell_type": "markdown",
   "id": "32a1fa7b",
   "metadata": {
    "papermill": {
     "duration": 0.009524,
     "end_time": "2025-05-01T11:49:24.496021",
     "exception": false,
     "start_time": "2025-05-01T11:49:24.486497",
     "status": "completed"
    },
    "tags": []
   },
   "source": [
    "# Encoding the categorical_column:"
   ]
  },
  {
   "cell_type": "code",
   "execution_count": 8,
   "id": "619c2f66",
   "metadata": {
    "execution": {
     "iopub.execute_input": "2025-05-01T11:49:24.517244Z",
     "iopub.status.busy": "2025-05-01T11:49:24.516434Z",
     "iopub.status.idle": "2025-05-01T11:49:25.961720Z",
     "shell.execute_reply": "2025-05-01T11:49:25.960677Z"
    },
    "papermill": {
     "duration": 1.457812,
     "end_time": "2025-05-01T11:49:25.963632",
     "exception": false,
     "start_time": "2025-05-01T11:49:24.505820",
     "status": "completed"
    },
    "tags": []
   },
   "outputs": [],
   "source": [
    "from sklearn.preprocessing import LabelEncoder"
   ]
  },
  {
   "cell_type": "code",
   "execution_count": 9,
   "id": "11393bdf",
   "metadata": {
    "execution": {
     "iopub.execute_input": "2025-05-01T11:49:25.987775Z",
     "iopub.status.busy": "2025-05-01T11:49:25.987188Z",
     "iopub.status.idle": "2025-05-01T11:49:25.992479Z",
     "shell.execute_reply": "2025-05-01T11:49:25.991375Z"
    },
    "papermill": {
     "duration": 0.01994,
     "end_time": "2025-05-01T11:49:25.994366",
     "exception": false,
     "start_time": "2025-05-01T11:49:25.974426",
     "status": "completed"
    },
    "tags": []
   },
   "outputs": [],
   "source": [
    "le=LabelEncoder()"
   ]
  },
  {
   "cell_type": "code",
   "execution_count": 10,
   "id": "50d1bfaf",
   "metadata": {
    "execution": {
     "iopub.execute_input": "2025-05-01T11:49:26.016737Z",
     "iopub.status.busy": "2025-05-01T11:49:26.016395Z",
     "iopub.status.idle": "2025-05-01T11:49:26.179686Z",
     "shell.execute_reply": "2025-05-01T11:49:26.178653Z"
    },
    "papermill": {
     "duration": 0.176462,
     "end_time": "2025-05-01T11:49:26.181329",
     "exception": false,
     "start_time": "2025-05-01T11:49:26.004867",
     "status": "completed"
    },
    "tags": []
   },
   "outputs": [],
   "source": [
    "df['Sex']=le.fit_transform(df['Sex'])"
   ]
  },
  {
   "cell_type": "code",
   "execution_count": 11,
   "id": "4a3a25ac",
   "metadata": {
    "execution": {
     "iopub.execute_input": "2025-05-01T11:49:26.205049Z",
     "iopub.status.busy": "2025-05-01T11:49:26.204656Z",
     "iopub.status.idle": "2025-05-01T11:49:26.218780Z",
     "shell.execute_reply": "2025-05-01T11:49:26.217989Z"
    },
    "papermill": {
     "duration": 0.02865,
     "end_time": "2025-05-01T11:49:26.220204",
     "exception": false,
     "start_time": "2025-05-01T11:49:26.191554",
     "status": "completed"
    },
    "tags": []
   },
   "outputs": [
    {
     "data": {
      "text/html": [
       "<div>\n",
       "<style scoped>\n",
       "    .dataframe tbody tr th:only-of-type {\n",
       "        vertical-align: middle;\n",
       "    }\n",
       "\n",
       "    .dataframe tbody tr th {\n",
       "        vertical-align: top;\n",
       "    }\n",
       "\n",
       "    .dataframe thead th {\n",
       "        text-align: right;\n",
       "    }\n",
       "</style>\n",
       "<table border=\"1\" class=\"dataframe\">\n",
       "  <thead>\n",
       "    <tr style=\"text-align: right;\">\n",
       "      <th></th>\n",
       "      <th>Sex</th>\n",
       "      <th>Age</th>\n",
       "      <th>Height</th>\n",
       "      <th>Weight</th>\n",
       "      <th>Duration</th>\n",
       "      <th>Heart_Rate</th>\n",
       "      <th>Body_Temp</th>\n",
       "      <th>Calories</th>\n",
       "    </tr>\n",
       "    <tr>\n",
       "      <th>id</th>\n",
       "      <th></th>\n",
       "      <th></th>\n",
       "      <th></th>\n",
       "      <th></th>\n",
       "      <th></th>\n",
       "      <th></th>\n",
       "      <th></th>\n",
       "      <th></th>\n",
       "    </tr>\n",
       "  </thead>\n",
       "  <tbody>\n",
       "    <tr>\n",
       "      <th>0</th>\n",
       "      <td>1</td>\n",
       "      <td>36</td>\n",
       "      <td>189.0</td>\n",
       "      <td>82.0</td>\n",
       "      <td>26.0</td>\n",
       "      <td>101.0</td>\n",
       "      <td>41.0</td>\n",
       "      <td>150.0</td>\n",
       "    </tr>\n",
       "    <tr>\n",
       "      <th>1</th>\n",
       "      <td>0</td>\n",
       "      <td>64</td>\n",
       "      <td>163.0</td>\n",
       "      <td>60.0</td>\n",
       "      <td>8.0</td>\n",
       "      <td>85.0</td>\n",
       "      <td>39.7</td>\n",
       "      <td>34.0</td>\n",
       "    </tr>\n",
       "    <tr>\n",
       "      <th>2</th>\n",
       "      <td>0</td>\n",
       "      <td>51</td>\n",
       "      <td>161.0</td>\n",
       "      <td>64.0</td>\n",
       "      <td>7.0</td>\n",
       "      <td>84.0</td>\n",
       "      <td>39.8</td>\n",
       "      <td>29.0</td>\n",
       "    </tr>\n",
       "    <tr>\n",
       "      <th>3</th>\n",
       "      <td>1</td>\n",
       "      <td>20</td>\n",
       "      <td>192.0</td>\n",
       "      <td>90.0</td>\n",
       "      <td>25.0</td>\n",
       "      <td>105.0</td>\n",
       "      <td>40.7</td>\n",
       "      <td>140.0</td>\n",
       "    </tr>\n",
       "    <tr>\n",
       "      <th>4</th>\n",
       "      <td>0</td>\n",
       "      <td>38</td>\n",
       "      <td>166.0</td>\n",
       "      <td>61.0</td>\n",
       "      <td>25.0</td>\n",
       "      <td>102.0</td>\n",
       "      <td>40.6</td>\n",
       "      <td>146.0</td>\n",
       "    </tr>\n",
       "  </tbody>\n",
       "</table>\n",
       "</div>"
      ],
      "text/plain": [
       "    Sex  Age  Height  Weight  Duration  Heart_Rate  Body_Temp  Calories\n",
       "id                                                                     \n",
       "0     1   36   189.0    82.0      26.0       101.0       41.0     150.0\n",
       "1     0   64   163.0    60.0       8.0        85.0       39.7      34.0\n",
       "2     0   51   161.0    64.0       7.0        84.0       39.8      29.0\n",
       "3     1   20   192.0    90.0      25.0       105.0       40.7     140.0\n",
       "4     0   38   166.0    61.0      25.0       102.0       40.6     146.0"
      ]
     },
     "execution_count": 11,
     "metadata": {},
     "output_type": "execute_result"
    }
   ],
   "source": [
    "df.head()"
   ]
  },
  {
   "cell_type": "markdown",
   "id": "a5f433a0",
   "metadata": {
    "papermill": {
     "duration": 0.009708,
     "end_time": "2025-05-01T11:49:26.240060",
     "exception": false,
     "start_time": "2025-05-01T11:49:26.230352",
     "status": "completed"
    },
    "tags": []
   },
   "source": [
    "# plotting the Distribution:"
   ]
  },
  {
   "cell_type": "markdown",
   "id": "5082e816",
   "metadata": {
    "papermill": {
     "duration": 0.009517,
     "end_time": "2025-05-01T11:49:26.259551",
     "exception": false,
     "start_time": "2025-05-01T11:49:26.250034",
     "status": "completed"
    },
    "tags": []
   },
   "source": [
    "### For Age columns:"
   ]
  },
  {
   "cell_type": "code",
   "execution_count": 12,
   "id": "e66d41e1",
   "metadata": {
    "execution": {
     "iopub.execute_input": "2025-05-01T11:49:26.354582Z",
     "iopub.status.busy": "2025-05-01T11:49:26.354302Z",
     "iopub.status.idle": "2025-05-01T11:49:26.955085Z",
     "shell.execute_reply": "2025-05-01T11:49:26.954279Z"
    },
    "papermill": {
     "duration": 0.613468,
     "end_time": "2025-05-01T11:49:26.956652",
     "exception": false,
     "start_time": "2025-05-01T11:49:26.343184",
     "status": "completed"
    },
    "tags": []
   },
   "outputs": [],
   "source": [
    "import seaborn as sns\n",
    "import matplotlib.pyplot as plt"
   ]
  },
  {
   "cell_type": "code",
   "execution_count": 13,
   "id": "df0f3ab2",
   "metadata": {
    "execution": {
     "iopub.execute_input": "2025-05-01T11:49:26.978652Z",
     "iopub.status.busy": "2025-05-01T11:49:26.978228Z",
     "iopub.status.idle": "2025-05-01T11:49:30.642276Z",
     "shell.execute_reply": "2025-05-01T11:49:30.641307Z"
    },
    "papermill": {
     "duration": 3.677195,
     "end_time": "2025-05-01T11:49:30.644038",
     "exception": false,
     "start_time": "2025-05-01T11:49:26.966843",
     "status": "completed"
    },
    "tags": []
   },
   "outputs": [
    {
     "name": "stderr",
     "output_type": "stream",
     "text": [
      "/usr/local/lib/python3.11/dist-packages/seaborn/_oldcore.py:1119: FutureWarning: use_inf_as_na option is deprecated and will be removed in a future version. Convert inf values to NaN before operating instead.\n",
      "  with pd.option_context('mode.use_inf_as_na', True):\n"
     ]
    },
    {
     "data": {
      "image/png": "[encoded data removed]",
      "text/plain": [
       "<Figure size 500x500 with 1 Axes>"
      ]
     },
     "metadata": {},
     "output_type": "display_data"
    }
   ],
   "source": [
    "sns.displot(df['Age'],kde=True)\n",
    "plt.show()"
   ]
  },
  {
   "cell_type": "code",
   "execution_count": 14,
   "id": "3cc3b39f",
   "metadata": {
    "execution": {
     "iopub.execute_input": "2025-05-01T11:49:30.672690Z",
     "iopub.status.busy": "2025-05-01T11:49:30.672304Z",
     "iopub.status.idle": "2025-05-01T11:49:30.842209Z",
     "shell.execute_reply": "2025-05-01T11:49:30.841284Z"
    },
    "papermill": {
     "duration": 0.183306,
     "end_time": "2025-05-01T11:49:30.843788",
     "exception": false,
     "start_time": "2025-05-01T11:49:30.660482",
     "status": "completed"
    },
    "tags": []
   },
   "outputs": [
    {
     "data": {
      "text/plain": [
       "<Axes: >"
      ]
     },
     "execution_count": 14,
     "metadata": {},
     "output_type": "execute_result"
    },
    {
     "data": {
      "image/png": "[encoded data removed]",
      "text/plain": [
       "<Figure size 640x480 with 1 Axes>"
      ]
     },
     "metadata": {},
     "output_type": "display_data"
    }
   ],
   "source": [
    "sns.boxplot(df['Age'])"
   ]
  },
  {
   "cell_type": "markdown",
   "id": "85a99a2d",
   "metadata": {
    "papermill": {
     "duration": 0.010815,
     "end_time": "2025-05-01T11:49:30.867890",
     "exception": false,
     "start_time": "2025-05-01T11:49:30.857075",
     "status": "completed"
    },
    "tags": []
   },
   "source": [
    "### For height columns:"
   ]
  },
  {
   "cell_type": "code",
   "execution_count": 15,
   "id": "364ad944",
   "metadata": {
    "execution": {
     "iopub.execute_input": "2025-05-01T11:49:30.891342Z",
     "iopub.status.busy": "2025-05-01T11:49:30.891008Z",
     "iopub.status.idle": "2025-05-01T11:49:34.900196Z",
     "shell.execute_reply": "2025-05-01T11:49:34.899190Z"
    },
    "papermill": {
     "duration": 4.022691,
     "end_time": "2025-05-01T11:49:34.901618",
     "exception": false,
     "start_time": "2025-05-01T11:49:30.878927",
     "status": "completed"
    },
    "tags": []
   },
   "outputs": [
    {
     "name": "stderr",
     "output_type": "stream",
     "text": [
      "/usr/local/lib/python3.11/dist-packages/seaborn/_oldcore.py:1119: FutureWarning: use_inf_as_na option is deprecated and will be removed in a future version. Convert inf values to NaN before operating instead.\n",
      "  with pd.option_context('mode.use_inf_as_na', True):\n"
     ]
    },
    {
     "data": {
      "text/plain": [
       "<seaborn.axisgrid.FacetGrid at 0x7a4c94752ed0>"
      ]
     },
     "execution_count": 15,
     "metadata": {},
     "output_type": "execute_result"
    },
    {
     "data": {
      "image/png": "[encoded data removed]",
      "text/plain": [
       "<Figure size 500x500 with 1 Axes>"
      ]
     },
     "metadata": {},
     "output_type": "display_data"
    }
   ],
   "source": [
    "sns.displot(df['Height'],kde=True)"
   ]
  },
  {
   "cell_type": "code",
   "execution_count": 16,
   "id": "f12feea8",
   "metadata": {
    "execution": {
     "iopub.execute_input": "2025-05-01T11:49:34.926126Z",
     "iopub.status.busy": "2025-05-01T11:49:34.925803Z",
     "iopub.status.idle": "2025-05-01T11:49:35.053032Z",
     "shell.execute_reply": "2025-05-01T11:49:35.052153Z"
    },
    "papermill": {
     "duration": 0.141184,
     "end_time": "2025-05-01T11:49:35.054467",
     "exception": false,
     "start_time": "2025-05-01T11:49:34.913283",
     "status": "completed"
    },
    "tags": []
   },
   "outputs": [
    {
     "data": {
      "image/png": "[encoded data removed]",
      "text/plain": [
       "<Figure size 640x480 with 1 Axes>"
      ]
     },
     "metadata": {},
     "output_type": "display_data"
    }
   ],
   "source": [
    "sns.boxplot(df['Height'])\n",
    "plt.show()"
   ]
  },
  {
   "cell_type": "code",
   "execution_count": 17,
   "id": "04a1b6e4",
   "metadata": {
    "execution": {
     "iopub.execute_input": "2025-05-01T11:49:35.079683Z",
     "iopub.status.busy": "2025-05-01T11:49:35.079348Z",
     "iopub.status.idle": "2025-05-01T11:49:35.085554Z",
     "shell.execute_reply": "2025-05-01T11:49:35.084619Z"
    },
    "papermill": {
     "duration": 0.021001,
     "end_time": "2025-05-01T11:49:35.087121",
     "exception": false,
     "start_time": "2025-05-01T11:49:35.066120",
     "status": "completed"
    },
    "tags": []
   },
   "outputs": [
    {
     "data": {
      "text/plain": [
       "Index(['Sex', 'Age', 'Height', 'Weight', 'Duration', 'Heart_Rate', 'Body_Temp',\n",
       "       'Calories'],\n",
       "      dtype='object')"
      ]
     },
     "execution_count": 17,
     "metadata": {},
     "output_type": "execute_result"
    }
   ],
   "source": [
    "df.columns"
   ]
  },
  {
   "cell_type": "markdown",
   "id": "6837d40b",
   "metadata": {
    "papermill": {
     "duration": 0.011619,
     "end_time": "2025-05-01T11:49:35.110679",
     "exception": false,
     "start_time": "2025-05-01T11:49:35.099060",
     "status": "completed"
    },
    "tags": []
   },
   "source": [
    "### for weight columns"
   ]
  },
  {
   "cell_type": "code",
   "execution_count": 18,
   "id": "7244a1f9",
   "metadata": {
    "execution": {
     "iopub.execute_input": "2025-05-01T11:49:35.136211Z",
     "iopub.status.busy": "2025-05-01T11:49:35.135479Z",
     "iopub.status.idle": "2025-05-01T11:49:38.986924Z",
     "shell.execute_reply": "2025-05-01T11:49:38.986041Z"
    },
    "papermill": {
     "duration": 3.865695,
     "end_time": "2025-05-01T11:49:38.988474",
     "exception": false,
     "start_time": "2025-05-01T11:49:35.122779",
     "status": "completed"
    },
    "tags": []
   },
   "outputs": [
    {
     "name": "stderr",
     "output_type": "stream",
     "text": [
      "/usr/local/lib/python3.11/dist-packages/seaborn/_oldcore.py:1119: FutureWarning: use_inf_as_na option is deprecated and will be removed in a future version. Convert inf values to NaN before operating instead.\n",
      "  with pd.option_context('mode.use_inf_as_na', True):\n"
     ]
    },
    {
     "data": {
      "text/plain": [
       "<seaborn.axisgrid.FacetGrid at 0x7a4c6d3e5050>"
      ]
     },
     "execution_count": 18,
     "metadata": {},
     "output_type": "execute_result"
    },
    {
     "data": {
      "image/png": "[encoded data removed]",
      "text/plain": [
       "<Figure size 500x500 with 1 Axes>"
      ]
     },
     "metadata": {},
     "output_type": "display_data"
    }
   ],
   "source": [
    "sns.displot(df['Weight'],kde=True)"
   ]
  },
  {
   "cell_type": "code",
   "execution_count": 19,
   "id": "a6bf8610",
   "metadata": {
    "execution": {
     "iopub.execute_input": "2025-05-01T11:49:39.015084Z",
     "iopub.status.busy": "2025-05-01T11:49:39.014719Z",
     "iopub.status.idle": "2025-05-01T11:49:39.153094Z",
     "shell.execute_reply": "2025-05-01T11:49:39.152186Z"
    },
    "papermill": {
     "duration": 0.153168,
     "end_time": "2025-05-01T11:49:39.154381",
     "exception": false,
     "start_time": "2025-05-01T11:49:39.001213",
     "status": "completed"
    },
    "tags": []
   },
   "outputs": [
    {
     "data": {
      "text/plain": [
       "<Axes: >"
      ]
     },
     "execution_count": 19,
     "metadata": {},
     "output_type": "execute_result"
    },
    {
     "data": {
      "image/png": "[encoded data removed]",
      "text/plain": [
       "<Figure size 640x480 with 1 Axes>"
      ]
     },
     "metadata": {},
     "output_type": "display_data"
    }
   ],
   "source": [
    "sns.boxplot(df['Weight'])"
   ]
  },
  {
   "cell_type": "markdown",
   "id": "e1238f57",
   "metadata": {
    "papermill": {
     "duration": 0.012583,
     "end_time": "2025-05-01T11:49:39.179956",
     "exception": false,
     "start_time": "2025-05-01T11:49:39.167373",
     "status": "completed"
    },
    "tags": []
   },
   "source": [
    "### Duration:\t"
   ]
  },
  {
   "cell_type": "code",
   "execution_count": 20,
   "id": "521f66b8",
   "metadata": {
    "execution": {
     "iopub.execute_input": "2025-05-01T11:49:39.206559Z",
     "iopub.status.busy": "2025-05-01T11:49:39.206236Z",
     "iopub.status.idle": "2025-05-01T11:49:42.578124Z",
     "shell.execute_reply": "2025-05-01T11:49:42.577180Z"
    },
    "papermill": {
     "duration": 3.387284,
     "end_time": "2025-05-01T11:49:42.579716",
     "exception": false,
     "start_time": "2025-05-01T11:49:39.192432",
     "status": "completed"
    },
    "tags": []
   },
   "outputs": [
    {
     "name": "stderr",
     "output_type": "stream",
     "text": [
      "/usr/local/lib/python3.11/dist-packages/seaborn/_oldcore.py:1119: FutureWarning: use_inf_as_na option is deprecated and will be removed in a future version. Convert inf values to NaN before operating instead.\n",
      "  with pd.option_context('mode.use_inf_as_na', True):\n"
     ]
    },
    {
     "data": {
      "text/plain": [
       "<seaborn.axisgrid.FacetGrid at 0x7a4c67aca090>"
      ]
     },
     "execution_count": 20,
     "metadata": {},
     "output_type": "execute_result"
    },
    {
     "data": {
      "image/png": "[encoded data removed]",
      "text/plain": [
       "<Figure size 500x500 with 1 Axes>"
      ]
     },
     "metadata": {},
     "output_type": "display_data"
    }
   ],
   "source": [
    "sns.displot(df['Duration'],kde=True)"
   ]
  },
  {
   "cell_type": "code",
   "execution_count": 21,
   "id": "38b469a8",
   "metadata": {
    "execution": {
     "iopub.execute_input": "2025-05-01T11:49:42.608286Z",
     "iopub.status.busy": "2025-05-01T11:49:42.607628Z",
     "iopub.status.idle": "2025-05-01T11:49:42.757671Z",
     "shell.execute_reply": "2025-05-01T11:49:42.756901Z"
    },
    "papermill": {
     "duration": 0.165845,
     "end_time": "2025-05-01T11:49:42.759271",
     "exception": false,
     "start_time": "2025-05-01T11:49:42.593426",
     "status": "completed"
    },
    "tags": []
   },
   "outputs": [
    {
     "data": {
      "text/plain": [
       "<Axes: >"
      ]
     },
     "execution_count": 21,
     "metadata": {},
     "output_type": "execute_result"
    },
    {
     "data": {
      "image/png": "[encoded data removed]",
      "text/plain": [
       "<Figure size 640x480 with 1 Axes>"
      ]
     },
     "metadata": {},
     "output_type": "display_data"
    }
   ],
   "source": [
    "sns.boxplot(df['Duration'])"
   ]
  },
  {
   "cell_type": "markdown",
   "id": "a924192d",
   "metadata": {
    "papermill": {
     "duration": 0.013264,
     "end_time": "2025-05-01T11:49:42.785994",
     "exception": false,
     "start_time": "2025-05-01T11:49:42.772730",
     "status": "completed"
    },
    "tags": []
   },
   "source": [
    "### Heart_Rate:"
   ]
  },
  {
   "cell_type": "code",
   "execution_count": 22,
   "id": "2853b64a",
   "metadata": {
    "execution": {
     "iopub.execute_input": "2025-05-01T11:49:42.813903Z",
     "iopub.status.busy": "2025-05-01T11:49:42.813565Z",
     "iopub.status.idle": "2025-05-01T11:49:46.727099Z",
     "shell.execute_reply": "2025-05-01T11:49:46.726039Z"
    },
    "papermill": {
     "duration": 3.929276,
     "end_time": "2025-05-01T11:49:46.728622",
     "exception": false,
     "start_time": "2025-05-01T11:49:42.799346",
     "status": "completed"
    },
    "tags": []
   },
   "outputs": [
    {
     "name": "stderr",
     "output_type": "stream",
     "text": [
      "/usr/local/lib/python3.11/dist-packages/seaborn/_oldcore.py:1119: FutureWarning: use_inf_as_na option is deprecated and will be removed in a future version. Convert inf values to NaN before operating instead.\n",
      "  with pd.option_context('mode.use_inf_as_na', True):\n"
     ]
    },
    {
     "data": {
      "text/plain": [
       "<seaborn.axisgrid.FacetGrid at 0x7a4c678094d0>"
      ]
     },
     "execution_count": 22,
     "metadata": {},
     "output_type": "execute_result"
    },
    {
     "data": {
      "image/png": "[encoded data removed]",
      "text/plain": [
       "<Figure size 500x500 with 1 Axes>"
      ]
     },
     "metadata": {},
     "output_type": "display_data"
    }
   ],
   "source": [
    "sns.displot(df['Heart_Rate'],kde=True)"
   ]
  },
  {
   "cell_type": "code",
   "execution_count": 23,
   "id": "29a8ba38",
   "metadata": {
    "execution": {
     "iopub.execute_input": "2025-05-01T11:49:46.757806Z",
     "iopub.status.busy": "2025-05-01T11:49:46.757466Z",
     "iopub.status.idle": "2025-05-01T11:49:46.906543Z",
     "shell.execute_reply": "2025-05-01T11:49:46.905833Z"
    },
    "papermill": {
     "duration": 0.165348,
     "end_time": "2025-05-01T11:49:46.908053",
     "exception": false,
     "start_time": "2025-05-01T11:49:46.742705",
     "status": "completed"
    },
    "tags": []
   },
   "outputs": [
    {
     "data": {
      "text/plain": [
       "<Axes: >"
      ]
     },
     "execution_count": 23,
     "metadata": {},
     "output_type": "execute_result"
    },
    {
     "data": {
      "image/png": "[encoded data removed]",
      "text/plain": [
       "<Figure size 640x480 with 1 Axes>"
      ]
     },
     "metadata": {},
     "output_type": "display_data"
    }
   ],
   "source": [
    "sns.boxplot(df['Heart_Rate'])"
   ]
  },
  {
   "cell_type": "markdown",
   "id": "6a2bc328",
   "metadata": {
    "papermill": {
     "duration": 0.013954,
     "end_time": "2025-05-01T11:49:46.936520",
     "exception": false,
     "start_time": "2025-05-01T11:49:46.922566",
     "status": "completed"
    },
    "tags": []
   },
   "source": [
    "### Body_Temp"
   ]
  },
  {
   "cell_type": "code",
   "execution_count": 24,
   "id": "8b510316",
   "metadata": {
    "execution": {
     "iopub.execute_input": "2025-05-01T11:49:46.966712Z",
     "iopub.status.busy": "2025-05-01T11:49:46.965942Z",
     "iopub.status.idle": "2025-05-01T11:49:50.822895Z",
     "shell.execute_reply": "2025-05-01T11:49:50.821988Z"
    },
    "papermill": {
     "duration": 3.873679,
     "end_time": "2025-05-01T11:49:50.824397",
     "exception": false,
     "start_time": "2025-05-01T11:49:46.950718",
     "status": "completed"
    },
    "tags": []
   },
   "outputs": [
    {
     "name": "stderr",
     "output_type": "stream",
     "text": [
      "/usr/local/lib/python3.11/dist-packages/seaborn/_oldcore.py:1119: FutureWarning: use_inf_as_na option is deprecated and will be removed in a future version. Convert inf values to NaN before operating instead.\n",
      "  with pd.option_context('mode.use_inf_as_na', True):\n"
     ]
    },
    {
     "data": {
      "text/plain": [
       "<seaborn.axisgrid.FacetGrid at 0x7a4c6d065690>"
      ]
     },
     "execution_count": 24,
     "metadata": {},
     "output_type": "execute_result"
    },
    {
     "data": {
      "image/png": "[encoded data removed]",
      "text/plain": [
       "<Figure size 500x500 with 1 Axes>"
      ]
     },
     "metadata": {},
     "output_type": "display_data"
    }
   ],
   "source": [
    "sns.displot(df['Body_Temp'],kde=True)"
   ]
  },
  {
   "cell_type": "code",
   "execution_count": 25,
   "id": "373fee79",
   "metadata": {
    "execution": {
     "iopub.execute_input": "2025-05-01T11:49:50.855289Z",
     "iopub.status.busy": "2025-05-01T11:49:50.854980Z",
     "iopub.status.idle": "2025-05-01T11:49:51.052701Z",
     "shell.execute_reply": "2025-05-01T11:49:51.051827Z"
    },
    "papermill": {
     "duration": 0.214641,
     "end_time": "2025-05-01T11:49:51.054124",
     "exception": false,
     "start_time": "2025-05-01T11:49:50.839483",
     "status": "completed"
    },
    "tags": []
   },
   "outputs": [
    {
     "data": {
      "text/plain": [
       "<Axes: >"
      ]
     },
     "execution_count": 25,
     "metadata": {},
     "output_type": "execute_result"
    },
    {
     "data": {
      "image/png": "[encoded data removed]",
      "text/plain": [
       "<Figure size 640x480 with 1 Axes>"
      ]
     },
     "metadata": {},
     "output_type": "display_data"
    }
   ],
   "source": [
    "sns.boxplot(df['Body_Temp'])"
   ]
  },
  {
   "cell_type": "markdown",
   "id": "5141d3b5",
   "metadata": {
    "papermill": {
     "duration": 0.014968,
     "end_time": "2025-05-01T11:49:51.084429",
     "exception": false,
     "start_time": "2025-05-01T11:49:51.069461",
     "status": "completed"
    },
    "tags": []
   },
   "source": [
    "# Handling the outliers:"
   ]
  },
  {
   "cell_type": "code",
   "execution_count": 26,
   "id": "1f686fb7",
   "metadata": {
    "execution": {
     "iopub.execute_input": "2025-05-01T11:49:51.115816Z",
     "iopub.status.busy": "2025-05-01T11:49:51.115452Z",
     "iopub.status.idle": "2025-05-01T11:49:51.466924Z",
     "shell.execute_reply": "2025-05-01T11:49:51.466066Z"
    },
    "papermill": {
     "duration": 0.368951,
     "end_time": "2025-05-01T11:49:51.468370",
     "exception": false,
     "start_time": "2025-05-01T11:49:51.099419",
     "status": "completed"
    },
    "tags": []
   },
   "outputs": [
    {
     "data": {
      "text/html": [
       "<div>\n",
       "<style scoped>\n",
       "    .dataframe tbody tr th:only-of-type {\n",
       "        vertical-align: middle;\n",
       "    }\n",
       "\n",
       "    .dataframe tbody tr th {\n",
       "        vertical-align: top;\n",
       "    }\n",
       "\n",
       "    .dataframe thead th {\n",
       "        text-align: right;\n",
       "    }\n",
       "</style>\n",
       "<table border=\"1\" class=\"dataframe\">\n",
       "  <thead>\n",
       "    <tr style=\"text-align: right;\">\n",
       "      <th></th>\n",
       "      <th>Sex</th>\n",
       "      <th>Age</th>\n",
       "      <th>Height</th>\n",
       "      <th>Weight</th>\n",
       "      <th>Duration</th>\n",
       "      <th>Heart_Rate</th>\n",
       "      <th>Body_Temp</th>\n",
       "      <th>Calories</th>\n",
       "    </tr>\n",
       "    <tr>\n",
       "      <th>id</th>\n",
       "      <th></th>\n",
       "      <th></th>\n",
       "      <th></th>\n",
       "      <th></th>\n",
       "      <th></th>\n",
       "      <th></th>\n",
       "      <th></th>\n",
       "      <th></th>\n",
       "    </tr>\n",
       "  </thead>\n",
       "  <tbody>\n",
       "    <tr>\n",
       "      <th>0</th>\n",
       "      <td>1</td>\n",
       "      <td>36</td>\n",
       "      <td>189.0</td>\n",
       "      <td>82.0</td>\n",
       "      <td>26.0</td>\n",
       "      <td>101.0</td>\n",
       "      <td>41.0</td>\n",
       "      <td>150.0</td>\n",
       "    </tr>\n",
       "    <tr>\n",
       "      <th>1</th>\n",
       "      <td>0</td>\n",
       "      <td>64</td>\n",
       "      <td>163.0</td>\n",
       "      <td>60.0</td>\n",
       "      <td>8.0</td>\n",
       "      <td>85.0</td>\n",
       "      <td>39.7</td>\n",
       "      <td>34.0</td>\n",
       "    </tr>\n",
       "    <tr>\n",
       "      <th>2</th>\n",
       "      <td>0</td>\n",
       "      <td>51</td>\n",
       "      <td>161.0</td>\n",
       "      <td>64.0</td>\n",
       "      <td>7.0</td>\n",
       "      <td>84.0</td>\n",
       "      <td>39.8</td>\n",
       "      <td>29.0</td>\n",
       "    </tr>\n",
       "    <tr>\n",
       "      <th>3</th>\n",
       "      <td>1</td>\n",
       "      <td>20</td>\n",
       "      <td>192.0</td>\n",
       "      <td>90.0</td>\n",
       "      <td>25.0</td>\n",
       "      <td>105.0</td>\n",
       "      <td>40.7</td>\n",
       "      <td>140.0</td>\n",
       "    </tr>\n",
       "    <tr>\n",
       "      <th>4</th>\n",
       "      <td>0</td>\n",
       "      <td>38</td>\n",
       "      <td>166.0</td>\n",
       "      <td>61.0</td>\n",
       "      <td>25.0</td>\n",
       "      <td>102.0</td>\n",
       "      <td>40.6</td>\n",
       "      <td>146.0</td>\n",
       "    </tr>\n",
       "  </tbody>\n",
       "</table>\n",
       "</div>"
      ],
      "text/plain": [
       "    Sex  Age  Height  Weight  Duration  Heart_Rate  Body_Temp  Calories\n",
       "id                                                                     \n",
       "0     1   36   189.0    82.0      26.0       101.0       41.0     150.0\n",
       "1     0   64   163.0    60.0       8.0        85.0       39.7      34.0\n",
       "2     0   51   161.0    64.0       7.0        84.0       39.8      29.0\n",
       "3     1   20   192.0    90.0      25.0       105.0       40.7     140.0\n",
       "4     0   38   166.0    61.0      25.0       102.0       40.6     146.0"
      ]
     },
     "execution_count": 26,
     "metadata": {},
     "output_type": "execute_result"
    }
   ],
   "source": [
    "\n",
    "# Function to detect and clip outliers using IQR\n",
    "def clip_outliers_iqr(column):\n",
    "    Q1 = column.quantile(0.25)\n",
    "    Q3 = column.quantile(0.75)\n",
    "    IQR = Q3 - Q1\n",
    "    lower_bound = Q1 - 1.5 * IQR\n",
    "    upper_bound = Q3 + 1.5 * IQR\n",
    "    # Clipping the column values to the lower and upper bounds\n",
    "    return column.clip(lower=lower_bound, upper=upper_bound)\n",
    "\n",
    "# Apply the clipping function to numerical columns\n",
    "for col in df.select_dtypes(include=['float64', 'int64']).columns:\n",
    "    df[col] = clip_outliers_iqr(df[col])\n",
    "\n",
    "# Display the DataFrame after clipping\n",
    "df.head()"
   ]
  },
  {
   "cell_type": "markdown",
   "id": "75d0db25",
   "metadata": {
    "papermill": {
     "duration": 0.015209,
     "end_time": "2025-05-01T11:49:51.499198",
     "exception": false,
     "start_time": "2025-05-01T11:49:51.483989",
     "status": "completed"
    },
    "tags": []
   },
   "source": [
    "# correlation of feature with target_col:"
   ]
  },
  {
   "cell_type": "code",
   "execution_count": 27,
   "id": "8f6f2106",
   "metadata": {
    "execution": {
     "iopub.execute_input": "2025-05-01T11:49:51.531030Z",
     "iopub.status.busy": "2025-05-01T11:49:51.530632Z",
     "iopub.status.idle": "2025-05-01T11:49:51.728887Z",
     "shell.execute_reply": "2025-05-01T11:49:51.728008Z"
    },
    "papermill": {
     "duration": 0.215879,
     "end_time": "2025-05-01T11:49:51.730295",
     "exception": false,
     "start_time": "2025-05-01T11:49:51.514416",
     "status": "completed"
    },
    "tags": []
   },
   "outputs": [
    {
     "data": {
      "text/html": [
       "<div>\n",
       "<style scoped>\n",
       "    .dataframe tbody tr th:only-of-type {\n",
       "        vertical-align: middle;\n",
       "    }\n",
       "\n",
       "    .dataframe tbody tr th {\n",
       "        vertical-align: top;\n",
       "    }\n",
       "\n",
       "    .dataframe thead th {\n",
       "        text-align: right;\n",
       "    }\n",
       "</style>\n",
       "<table border=\"1\" class=\"dataframe\">\n",
       "  <thead>\n",
       "    <tr style=\"text-align: right;\">\n",
       "      <th></th>\n",
       "      <th>Sex</th>\n",
       "      <th>Age</th>\n",
       "      <th>Height</th>\n",
       "      <th>Weight</th>\n",
       "      <th>Duration</th>\n",
       "      <th>Heart_Rate</th>\n",
       "      <th>Body_Temp</th>\n",
       "      <th>Calories</th>\n",
       "    </tr>\n",
       "  </thead>\n",
       "  <tbody>\n",
       "    <tr>\n",
       "      <th>Sex</th>\n",
       "      <td>1.000000</td>\n",
       "      <td>0.009689</td>\n",
       "      <td>0.755913</td>\n",
       "      <td>0.818259</td>\n",
       "      <td>-0.009594</td>\n",
       "      <td>0.009113</td>\n",
       "      <td>-0.015499</td>\n",
       "      <td>0.011981</td>\n",
       "    </tr>\n",
       "    <tr>\n",
       "      <th>Age</th>\n",
       "      <td>0.009689</td>\n",
       "      <td>1.000000</td>\n",
       "      <td>0.011976</td>\n",
       "      <td>0.073690</td>\n",
       "      <td>0.015656</td>\n",
       "      <td>0.017030</td>\n",
       "      <td>0.029482</td>\n",
       "      <td>0.145647</td>\n",
       "    </tr>\n",
       "    <tr>\n",
       "      <th>Height</th>\n",
       "      <td>0.755913</td>\n",
       "      <td>0.011976</td>\n",
       "      <td>1.000000</td>\n",
       "      <td>0.957972</td>\n",
       "      <td>-0.029938</td>\n",
       "      <td>-0.013245</td>\n",
       "      <td>-0.034198</td>\n",
       "      <td>-0.004067</td>\n",
       "    </tr>\n",
       "    <tr>\n",
       "      <th>Weight</th>\n",
       "      <td>0.818259</td>\n",
       "      <td>0.073690</td>\n",
       "      <td>0.957972</td>\n",
       "      <td>1.000000</td>\n",
       "      <td>-0.020848</td>\n",
       "      <td>-0.002398</td>\n",
       "      <td>-0.023281</td>\n",
       "      <td>0.015818</td>\n",
       "    </tr>\n",
       "    <tr>\n",
       "      <th>Duration</th>\n",
       "      <td>-0.009594</td>\n",
       "      <td>0.015656</td>\n",
       "      <td>-0.029938</td>\n",
       "      <td>-0.020848</td>\n",
       "      <td>1.000000</td>\n",
       "      <td>0.875341</td>\n",
       "      <td>0.908494</td>\n",
       "      <td>0.959958</td>\n",
       "    </tr>\n",
       "    <tr>\n",
       "      <th>Heart_Rate</th>\n",
       "      <td>0.009113</td>\n",
       "      <td>0.017030</td>\n",
       "      <td>-0.013245</td>\n",
       "      <td>-0.002398</td>\n",
       "      <td>0.875341</td>\n",
       "      <td>1.000000</td>\n",
       "      <td>0.800557</td>\n",
       "      <td>0.908762</td>\n",
       "    </tr>\n",
       "    <tr>\n",
       "      <th>Body_Temp</th>\n",
       "      <td>-0.015499</td>\n",
       "      <td>0.029482</td>\n",
       "      <td>-0.034198</td>\n",
       "      <td>-0.023281</td>\n",
       "      <td>0.908494</td>\n",
       "      <td>0.800557</td>\n",
       "      <td>1.000000</td>\n",
       "      <td>0.834946</td>\n",
       "    </tr>\n",
       "    <tr>\n",
       "      <th>Calories</th>\n",
       "      <td>0.011981</td>\n",
       "      <td>0.145647</td>\n",
       "      <td>-0.004067</td>\n",
       "      <td>0.015818</td>\n",
       "      <td>0.959958</td>\n",
       "      <td>0.908762</td>\n",
       "      <td>0.834946</td>\n",
       "      <td>1.000000</td>\n",
       "    </tr>\n",
       "  </tbody>\n",
       "</table>\n",
       "</div>"
      ],
      "text/plain": [
       "                 Sex       Age    Height    Weight  Duration  Heart_Rate  \\\n",
       "Sex         1.000000  0.009689  0.755913  0.818259 -0.009594    0.009113   \n",
       "Age         0.009689  1.000000  0.011976  0.073690  0.015656    0.017030   \n",
       "Height      0.755913  0.011976  1.000000  0.957972 -0.029938   -0.013245   \n",
       "Weight      0.818259  0.073690  0.957972  1.000000 -0.020848   -0.002398   \n",
       "Duration   -0.009594  0.015656 -0.029938 -0.020848  1.000000    0.875341   \n",
       "Heart_Rate  0.009113  0.017030 -0.013245 -0.002398  0.875341    1.000000   \n",
       "Body_Temp  -0.015499  0.029482 -0.034198 -0.023281  0.908494    0.800557   \n",
       "Calories    0.011981  0.145647 -0.004067  0.015818  0.959958    0.908762   \n",
       "\n",
       "            Body_Temp  Calories  \n",
       "Sex         -0.015499  0.011981  \n",
       "Age          0.029482  0.145647  \n",
       "Height      -0.034198 -0.004067  \n",
       "Weight      -0.023281  0.015818  \n",
       "Duration     0.908494  0.959958  \n",
       "Heart_Rate   0.800557  0.908762  \n",
       "Body_Temp    1.000000  0.834946  \n",
       "Calories     0.834946  1.000000  "
      ]
     },
     "execution_count": 27,
     "metadata": {},
     "output_type": "execute_result"
    }
   ],
   "source": [
    "df.corr()"
   ]
  },
  {
   "cell_type": "code",
   "execution_count": 28,
   "id": "6db9719a",
   "metadata": {
    "execution": {
     "iopub.execute_input": "2025-05-01T11:49:51.762121Z",
     "iopub.status.busy": "2025-05-01T11:49:51.761588Z",
     "iopub.status.idle": "2025-05-01T11:49:52.324889Z",
     "shell.execute_reply": "2025-05-01T11:49:52.323822Z"
    },
    "papermill": {
     "duration": 0.582279,
     "end_time": "2025-05-01T11:49:52.327979",
     "exception": false,
     "start_time": "2025-05-01T11:49:51.745700",
     "status": "completed"
    },
    "tags": []
   },
   "outputs": [
    {
     "data": {
      "image/png": "[encoded data removed]",
      "text/plain": [
       "<Figure size 1000x800 with 2 Axes>"
      ]
     },
     "metadata": {},
     "output_type": "display_data"
    }
   ],
   "source": [
    "correlation_matrix=df.corr()\n",
    "plt.figure(figsize=(10,8))\n",
    "sns.heatmap(correlation_matrix,annot=True,cmap='coolwarm',fmt='2f')\n",
    "plt.title('correlation heatmap')\n",
    "plt.show()"
   ]
  },
  {
   "cell_type": "markdown",
   "id": "c1448abc",
   "metadata": {
    "papermill": {
     "duration": 0.016918,
     "end_time": "2025-05-01T11:49:52.363376",
     "exception": false,
     "start_time": "2025-05-01T11:49:52.346458",
     "status": "completed"
    },
    "tags": []
   },
   "source": [
    "# Splitting the dataset in training and testing:"
   ]
  },
  {
   "cell_type": "code",
   "execution_count": 29,
   "id": "4e1b2928",
   "metadata": {
    "execution": {
     "iopub.execute_input": "2025-05-01T11:49:52.400079Z",
     "iopub.status.busy": "2025-05-01T11:49:52.399745Z",
     "iopub.status.idle": "2025-05-01T11:49:52.422845Z",
     "shell.execute_reply": "2025-05-01T11:49:52.421991Z"
    },
    "papermill": {
     "duration": 0.043482,
     "end_time": "2025-05-01T11:49:52.424373",
     "exception": false,
     "start_time": "2025-05-01T11:49:52.380891",
     "status": "completed"
    },
    "tags": []
   },
   "outputs": [],
   "source": [
    "x=df.drop('Calories',axis=1)\n",
    "y=df['Calories']"
   ]
  },
  {
   "cell_type": "code",
   "execution_count": 30,
   "id": "1ea6c164",
   "metadata": {
    "execution": {
     "iopub.execute_input": "2025-05-01T11:49:52.461706Z",
     "iopub.status.busy": "2025-05-01T11:49:52.460881Z",
     "iopub.status.idle": "2025-05-01T11:49:52.573478Z",
     "shell.execute_reply": "2025-05-01T11:49:52.572543Z"
    },
    "papermill": {
     "duration": 0.133115,
     "end_time": "2025-05-01T11:49:52.575235",
     "exception": false,
     "start_time": "2025-05-01T11:49:52.442120",
     "status": "completed"
    },
    "tags": []
   },
   "outputs": [],
   "source": [
    "from sklearn.model_selection import train_test_split"
   ]
  },
  {
   "cell_type": "code",
   "execution_count": 31,
   "id": "2edf4158",
   "metadata": {
    "execution": {
     "iopub.execute_input": "2025-05-01T11:49:52.611694Z",
     "iopub.status.busy": "2025-05-01T11:49:52.611396Z",
     "iopub.status.idle": "2025-05-01T11:49:52.771513Z",
     "shell.execute_reply": "2025-05-01T11:49:52.770778Z"
    },
    "papermill": {
     "duration": 0.180021,
     "end_time": "2025-05-01T11:49:52.773095",
     "exception": false,
     "start_time": "2025-05-01T11:49:52.593074",
     "status": "completed"
    },
    "tags": []
   },
   "outputs": [],
   "source": [
    "x_train,x_test,y_train,y_test=train_test_split(x,y,test_size=0.2,random_state=41)"
   ]
  },
  {
   "cell_type": "code",
   "execution_count": 32,
   "id": "f6ed2002",
   "metadata": {
    "execution": {
     "iopub.execute_input": "2025-05-01T11:49:52.811591Z",
     "iopub.status.busy": "2025-05-01T11:49:52.811279Z",
     "iopub.status.idle": "2025-05-01T11:49:52.823361Z",
     "shell.execute_reply": "2025-05-01T11:49:52.822481Z"
    },
    "papermill": {
     "duration": 0.032336,
     "end_time": "2025-05-01T11:49:52.824649",
     "exception": false,
     "start_time": "2025-05-01T11:49:52.792313",
     "status": "completed"
    },
    "tags": []
   },
   "outputs": [
    {
     "data": {
      "text/html": [
       "<div>\n",
       "<style scoped>\n",
       "    .dataframe tbody tr th:only-of-type {\n",
       "        vertical-align: middle;\n",
       "    }\n",
       "\n",
       "    .dataframe tbody tr th {\n",
       "        vertical-align: top;\n",
       "    }\n",
       "\n",
       "    .dataframe thead th {\n",
       "        text-align: right;\n",
       "    }\n",
       "</style>\n",
       "<table border=\"1\" class=\"dataframe\">\n",
       "  <thead>\n",
       "    <tr style=\"text-align: right;\">\n",
       "      <th></th>\n",
       "      <th>Sex</th>\n",
       "      <th>Age</th>\n",
       "      <th>Height</th>\n",
       "      <th>Weight</th>\n",
       "      <th>Duration</th>\n",
       "      <th>Heart_Rate</th>\n",
       "      <th>Body_Temp</th>\n",
       "    </tr>\n",
       "    <tr>\n",
       "      <th>id</th>\n",
       "      <th></th>\n",
       "      <th></th>\n",
       "      <th></th>\n",
       "      <th></th>\n",
       "      <th></th>\n",
       "      <th></th>\n",
       "      <th></th>\n",
       "    </tr>\n",
       "  </thead>\n",
       "  <tbody>\n",
       "    <tr>\n",
       "      <th>707701</th>\n",
       "      <td>0</td>\n",
       "      <td>22</td>\n",
       "      <td>177.0</td>\n",
       "      <td>63.0</td>\n",
       "      <td>6.0</td>\n",
       "      <td>84.0</td>\n",
       "      <td>39.1</td>\n",
       "    </tr>\n",
       "    <tr>\n",
       "      <th>657036</th>\n",
       "      <td>1</td>\n",
       "      <td>79</td>\n",
       "      <td>193.0</td>\n",
       "      <td>94.0</td>\n",
       "      <td>15.0</td>\n",
       "      <td>87.0</td>\n",
       "      <td>40.5</td>\n",
       "    </tr>\n",
       "    <tr>\n",
       "      <th>203978</th>\n",
       "      <td>0</td>\n",
       "      <td>50</td>\n",
       "      <td>158.0</td>\n",
       "      <td>62.0</td>\n",
       "      <td>15.0</td>\n",
       "      <td>85.0</td>\n",
       "      <td>40.0</td>\n",
       "    </tr>\n",
       "    <tr>\n",
       "      <th>222200</th>\n",
       "      <td>0</td>\n",
       "      <td>63</td>\n",
       "      <td>164.0</td>\n",
       "      <td>61.0</td>\n",
       "      <td>13.0</td>\n",
       "      <td>88.0</td>\n",
       "      <td>39.7</td>\n",
       "    </tr>\n",
       "    <tr>\n",
       "      <th>177069</th>\n",
       "      <td>0</td>\n",
       "      <td>59</td>\n",
       "      <td>170.0</td>\n",
       "      <td>74.0</td>\n",
       "      <td>25.0</td>\n",
       "      <td>106.0</td>\n",
       "      <td>40.7</td>\n",
       "    </tr>\n",
       "  </tbody>\n",
       "</table>\n",
       "</div>"
      ],
      "text/plain": [
       "        Sex  Age  Height  Weight  Duration  Heart_Rate  Body_Temp\n",
       "id                                                               \n",
       "707701    0   22   177.0    63.0       6.0        84.0       39.1\n",
       "657036    1   79   193.0    94.0      15.0        87.0       40.5\n",
       "203978    0   50   158.0    62.0      15.0        85.0       40.0\n",
       "222200    0   63   164.0    61.0      13.0        88.0       39.7\n",
       "177069    0   59   170.0    74.0      25.0       106.0       40.7"
      ]
     },
     "execution_count": 32,
     "metadata": {},
     "output_type": "execute_result"
    }
   ],
   "source": [
    "x_train.head()"
   ]
  },
  {
   "cell_type": "markdown",
   "id": "e55e4be2",
   "metadata": {
    "papermill": {
     "duration": 0.017182,
     "end_time": "2025-05-01T11:49:52.859791",
     "exception": false,
     "start_time": "2025-05-01T11:49:52.842609",
     "status": "completed"
    },
    "tags": []
   },
   "source": [
    "# Training the model:"
   ]
  },
  {
   "cell_type": "code",
   "execution_count": 33,
   "id": "c20e6bb9",
   "metadata": {
    "execution": {
     "iopub.execute_input": "2025-05-01T11:49:52.896015Z",
     "iopub.status.busy": "2025-05-01T11:49:52.895438Z",
     "iopub.status.idle": "2025-05-01T11:49:53.273195Z",
     "shell.execute_reply": "2025-05-01T11:49:53.271959Z"
    },
    "papermill": {
     "duration": 0.397902,
     "end_time": "2025-05-01T11:49:53.275143",
     "exception": false,
     "start_time": "2025-05-01T11:49:52.877241",
     "status": "completed"
    },
    "tags": []
   },
   "outputs": [],
   "source": [
    "from sklearn.ensemble import RandomForestRegressor"
   ]
  },
  {
   "cell_type": "code",
   "execution_count": 34,
   "id": "9fd22a12",
   "metadata": {
    "execution": {
     "iopub.execute_input": "2025-05-01T11:49:53.313392Z",
     "iopub.status.busy": "2025-05-01T11:49:53.312985Z",
     "iopub.status.idle": "2025-05-01T11:49:53.318411Z",
     "shell.execute_reply": "2025-05-01T11:49:53.317284Z"
    },
    "papermill": {
     "duration": 0.027006,
     "end_time": "2025-05-01T11:49:53.320406",
     "exception": false,
     "start_time": "2025-05-01T11:49:53.293400",
     "status": "completed"
    },
    "tags": []
   },
   "outputs": [],
   "source": [
    "model_rf=RandomForestRegressor()"
   ]
  },
  {
   "cell_type": "code",
   "execution_count": 35,
   "id": "8993b58b",
   "metadata": {
    "execution": {
     "iopub.execute_input": "2025-05-01T11:49:53.370450Z",
     "iopub.status.busy": "2025-05-01T11:49:53.369584Z",
     "iopub.status.idle": "2025-05-01T11:53:36.341234Z",
     "shell.execute_reply": "2025-05-01T11:53:36.340343Z"
    },
    "papermill": {
     "duration": 223.020699,
     "end_time": "2025-05-01T11:53:36.362606",
     "exception": false,
     "start_time": "2025-05-01T11:49:53.341907",
     "status": "completed"
    },
    "tags": []
   },
   "outputs": [
    {
     "data": {
      "text/html": [
       "<style>#sk-container-id-1 {color: black;background-color: white;}#sk-container-id-1 pre{padding: 0;}#sk-container-id-1 div.sk-toggleable {background-color: white;}#sk-container-id-1 label.sk-toggleable__label {cursor: pointer;display: block;width: 100%;margin-bottom: 0;padding: 0.3em;box-sizing: border-box;text-align: center;}#sk-container-id-1 label.sk-toggleable__label-arrow:before {content: \"▸\";float: left;margin-right: 0.25em;color: #696969;}#sk-container-id-1 label.sk-toggleable__label-arrow:hover:before {color: black;}#sk-container-id-1 div.sk-estimator:hover label.sk-toggleable__label-arrow:before {color: black;}#sk-container-id-1 div.sk-toggleable__content {max-height: 0;max-width: 0;overflow: hidden;text-align: left;background-color: #f0f8ff;}#sk-container-id-1 div.sk-toggleable__content pre {margin: 0.2em;color: black;border-radius: 0.25em;background-color: #f0f8ff;}#sk-container-id-1 input.sk-toggleable__control:checked~div.sk-toggleable__content {max-height: 200px;max-width: 100%;overflow: auto;}#sk-container-id-1 input.sk-toggleable__control:checked~label.sk-toggleable__label-arrow:before {content: \"▾\";}#sk-container-id-1 div.sk-estimator input.sk-toggleable__control:checked~label.sk-toggleable__label {background-color: #d4ebff;}#sk-container-id-1 div.sk-label input.sk-toggleable__control:checked~label.sk-toggleable__label {background-color: #d4ebff;}#sk-container-id-1 input.sk-hidden--visually {border: 0;clip: rect(1px 1px 1px 1px);clip: rect(1px, 1px, 1px, 1px);height: 1px;margin: -1px;overflow: hidden;padding: 0;position: absolute;width: 1px;}#sk-container-id-1 div.sk-estimator {font-family: monospace;background-color: #f0f8ff;border: 1px dotted black;border-radius: 0.25em;box-sizing: border-box;margin-bottom: 0.5em;}#sk-container-id-1 div.sk-estimator:hover {background-color: #d4ebff;}#sk-container-id-1 div.sk-parallel-item::after {content: \"\";width: 100%;border-bottom: 1px solid gray;flex-grow: 1;}#sk-container-id-1 div.sk-label:hover label.sk-toggleable__label {background-color: #d4ebff;}#sk-container-id-1 div.sk-serial::before {content: \"\";position: absolute;border-left: 1px solid gray;box-sizing: border-box;top: 0;bottom: 0;left: 50%;z-index: 0;}#sk-container-id-1 div.sk-serial {display: flex;flex-direction: column;align-items: center;background-color: white;padding-right: 0.2em;padding-left: 0.2em;position: relative;}#sk-container-id-1 div.sk-item {position: relative;z-index: 1;}#sk-container-id-1 div.sk-parallel {display: flex;align-items: stretch;justify-content: center;background-color: white;position: relative;}#sk-container-id-1 div.sk-item::before, #sk-container-id-1 div.sk-parallel-item::before {content: \"\";position: absolute;border-left: 1px solid gray;box-sizing: border-box;top: 0;bottom: 0;left: 50%;z-index: -1;}#sk-container-id-1 div.sk-parallel-item {display: flex;flex-direction: column;z-index: 1;position: relative;background-color: white;}#sk-container-id-1 div.sk-parallel-item:first-child::after {align-self: flex-end;width: 50%;}#sk-container-id-1 div.sk-parallel-item:last-child::after {align-self: flex-start;width: 50%;}#sk-container-id-1 div.sk-parallel-item:only-child::after {width: 0;}#sk-container-id-1 div.sk-dashed-wrapped {border: 1px dashed gray;margin: 0 0.4em 0.5em 0.4em;box-sizing: border-box;padding-bottom: 0.4em;background-color: white;}#sk-container-id-1 div.sk-label label {font-family: monospace;font-weight: bold;display: inline-block;line-height: 1.2em;}#sk-container-id-1 div.sk-label-container {text-align: center;}#sk-container-id-1 div.sk-container {/* jupyter's `normalize.less` sets `[hidden] { display: none; }` but bootstrap.min.css set `[hidden] { display: none !important; }` so we also need the `!important` here to be able to override the default hidden behavior on the sphinx rendered scikit-learn.org. See: https://github.com/scikit-learn/scikit-learn/issues/21755 */display: inline-block !important;position: relative;}#sk-container-id-1 div.sk-text-repr-fallback {display: none;}</style><div id=\"sk-container-id-1\" class=\"sk-top-container\"><div class=\"sk-text-repr-fallback\"><pre>RandomForestRegressor()</pre><b>In a Jupyter environment, please rerun this cell to show the HTML representation or trust the notebook. <br />On GitHub, the HTML representation is unable to render, please try loading this page with nbviewer.org.</b></div><div class=\"sk-container\" hidden><div class=\"sk-item\"><div class=\"sk-estimator sk-toggleable\"><input class=\"sk-toggleable__control sk-hidden--visually\" id=\"sk-estimator-id-1\" type=\"checkbox\" checked><label for=\"sk-estimator-id-1\" class=\"sk-toggleable__label sk-toggleable__label-arrow\">RandomForestRegressor</label><div class=\"sk-toggleable__content\"><pre>RandomForestRegressor()</pre></div></div></div></div></div>"
      ],
      "text/plain": [
       "RandomForestRegressor()"
      ]
     },
     "execution_count": 35,
     "metadata": {},
     "output_type": "execute_result"
    }
   ],
   "source": [
    "model_rf.fit(x_train,y_train)"
   ]
  },
  {
   "cell_type": "code",
   "execution_count": 36,
   "id": "0e5dd177",
   "metadata": {
    "execution": {
     "iopub.execute_input": "2025-05-01T11:53:36.402256Z",
     "iopub.status.busy": "2025-05-01T11:53:36.401958Z",
     "iopub.status.idle": "2025-05-01T11:53:46.756852Z",
     "shell.execute_reply": "2025-05-01T11:53:46.755953Z"
    },
    "papermill": {
     "duration": 10.376821,
     "end_time": "2025-05-01T11:53:46.758342",
     "exception": false,
     "start_time": "2025-05-01T11:53:36.381521",
     "status": "completed"
    },
    "tags": []
   },
   "outputs": [],
   "source": [
    "y_pred_rf=model_rf.predict(x_test)"
   ]
  },
  {
   "cell_type": "code",
   "execution_count": 37,
   "id": "978d3f38",
   "metadata": {
    "execution": {
     "iopub.execute_input": "2025-05-01T11:53:46.797229Z",
     "iopub.status.busy": "2025-05-01T11:53:46.796913Z",
     "iopub.status.idle": "2025-05-01T11:53:46.803017Z",
     "shell.execute_reply": "2025-05-01T11:53:46.802075Z"
    },
    "papermill": {
     "duration": 0.027342,
     "end_time": "2025-05-01T11:53:46.804412",
     "exception": false,
     "start_time": "2025-05-01T11:53:46.777070",
     "status": "completed"
    },
    "tags": []
   },
   "outputs": [
    {
     "data": {
      "text/plain": [
       "array([  6.22      ,  13.04666667, 227.85      , ..., 180.53      ,\n",
       "        30.42      ,  53.92      ])"
      ]
     },
     "execution_count": 37,
     "metadata": {},
     "output_type": "execute_result"
    }
   ],
   "source": [
    "y_pred_rf"
   ]
  },
  {
   "cell_type": "markdown",
   "id": "0ed4b4c4",
   "metadata": {
    "papermill": {
     "duration": 0.018607,
     "end_time": "2025-05-01T11:53:46.841902",
     "exception": false,
     "start_time": "2025-05-01T11:53:46.823295",
     "status": "completed"
    },
    "tags": []
   },
   "source": [
    "# Evaluating the model Perfomence:"
   ]
  },
  {
   "cell_type": "code",
   "execution_count": 38,
   "id": "ca24d4f9",
   "metadata": {
    "execution": {
     "iopub.execute_input": "2025-05-01T11:53:46.880917Z",
     "iopub.status.busy": "2025-05-01T11:53:46.880289Z",
     "iopub.status.idle": "2025-05-01T11:53:46.884559Z",
     "shell.execute_reply": "2025-05-01T11:53:46.883701Z"
    },
    "papermill": {
     "duration": 0.025356,
     "end_time": "2025-05-01T11:53:46.885920",
     "exception": false,
     "start_time": "2025-05-01T11:53:46.860564",
     "status": "completed"
    },
    "tags": []
   },
   "outputs": [],
   "source": [
    "from sklearn.metrics import r2_score,mean_squared_error"
   ]
  },
  {
   "cell_type": "code",
   "execution_count": 39,
   "id": "5388067b",
   "metadata": {
    "execution": {
     "iopub.execute_input": "2025-05-01T11:53:46.925539Z",
     "iopub.status.busy": "2025-05-01T11:53:46.925216Z",
     "iopub.status.idle": "2025-05-01T11:53:46.934514Z",
     "shell.execute_reply": "2025-05-01T11:53:46.933673Z"
    },
    "papermill": {
     "duration": 0.031544,
     "end_time": "2025-05-01T11:53:46.936078",
     "exception": false,
     "start_time": "2025-05-01T11:53:46.904534",
     "status": "completed"
    },
    "tags": []
   },
   "outputs": [],
   "source": [
    "y_test_log=np.log(y_test)\n",
    "y_pred_log=np.log(y_pred_rf)"
   ]
  },
  {
   "cell_type": "code",
   "execution_count": 40,
   "id": "3690a5b8",
   "metadata": {
    "execution": {
     "iopub.execute_input": "2025-05-01T11:53:46.975214Z",
     "iopub.status.busy": "2025-05-01T11:53:46.974876Z",
     "iopub.status.idle": "2025-05-01T11:53:46.980661Z",
     "shell.execute_reply": "2025-05-01T11:53:46.979857Z"
    },
    "papermill": {
     "duration": 0.02734,
     "end_time": "2025-05-01T11:53:46.982319",
     "exception": false,
     "start_time": "2025-05-01T11:53:46.954979",
     "status": "completed"
    },
    "tags": []
   },
   "outputs": [],
   "source": [
    "rmsle=np.sqrt(mean_squared_error(y_test_log,y_pred_log))"
   ]
  },
  {
   "cell_type": "code",
   "execution_count": 41,
   "id": "0a0b5b77",
   "metadata": {
    "execution": {
     "iopub.execute_input": "2025-05-01T11:53:47.022984Z",
     "iopub.status.busy": "2025-05-01T11:53:47.022213Z",
     "iopub.status.idle": "2025-05-01T11:53:47.027516Z",
     "shell.execute_reply": "2025-05-01T11:53:47.026574Z"
    },
    "papermill": {
     "duration": 0.027003,
     "end_time": "2025-05-01T11:53:47.028942",
     "exception": false,
     "start_time": "2025-05-01T11:53:47.001939",
     "status": "completed"
    },
    "tags": []
   },
   "outputs": [
    {
     "data": {
      "text/plain": [
       "0.0717071854360488"
      ]
     },
     "execution_count": 41,
     "metadata": {},
     "output_type": "execute_result"
    }
   ],
   "source": [
    "rmsle"
   ]
  },
  {
   "cell_type": "markdown",
   "id": "439ffb02",
   "metadata": {
    "papermill": {
     "duration": 0.018566,
     "end_time": "2025-05-01T11:53:47.066593",
     "exception": false,
     "start_time": "2025-05-01T11:53:47.048027",
     "status": "completed"
    },
    "tags": []
   },
   "source": [
    "# loading the test data:\n"
   ]
  },
  {
   "cell_type": "code",
   "execution_count": 42,
   "id": "fa9f3fe0",
   "metadata": {
    "execution": {
     "iopub.execute_input": "2025-05-01T11:53:47.105854Z",
     "iopub.status.busy": "2025-05-01T11:53:47.105245Z",
     "iopub.status.idle": "2025-05-01T11:53:47.365712Z",
     "shell.execute_reply": "2025-05-01T11:53:47.364914Z"
    },
    "papermill": {
     "duration": 0.281911,
     "end_time": "2025-05-01T11:53:47.367381",
     "exception": false,
     "start_time": "2025-05-01T11:53:47.085470",
     "status": "completed"
    },
    "tags": []
   },
   "outputs": [],
   "source": [
    "df_test=pd.read_csv(\"/kaggle/input/playground-series-s5e5/test.csv\",index_col=0)"
   ]
  },
  {
   "cell_type": "code",
   "execution_count": 43,
   "id": "ecc821c6",
   "metadata": {
    "execution": {
     "iopub.execute_input": "2025-05-01T11:53:47.407094Z",
     "iopub.status.busy": "2025-05-01T11:53:47.406728Z",
     "iopub.status.idle": "2025-05-01T11:53:47.418654Z",
     "shell.execute_reply": "2025-05-01T11:53:47.417930Z"
    },
    "papermill": {
     "duration": 0.033701,
     "end_time": "2025-05-01T11:53:47.420047",
     "exception": false,
     "start_time": "2025-05-01T11:53:47.386346",
     "status": "completed"
    },
    "tags": []
   },
   "outputs": [
    {
     "data": {
      "text/html": [
       "<div>\n",
       "<style scoped>\n",
       "    .dataframe tbody tr th:only-of-type {\n",
       "        vertical-align: middle;\n",
       "    }\n",
       "\n",
       "    .dataframe tbody tr th {\n",
       "        vertical-align: top;\n",
       "    }\n",
       "\n",
       "    .dataframe thead th {\n",
       "        text-align: right;\n",
       "    }\n",
       "</style>\n",
       "<table border=\"1\" class=\"dataframe\">\n",
       "  <thead>\n",
       "    <tr style=\"text-align: right;\">\n",
       "      <th></th>\n",
       "      <th>Sex</th>\n",
       "      <th>Age</th>\n",
       "      <th>Height</th>\n",
       "      <th>Weight</th>\n",
       "      <th>Duration</th>\n",
       "      <th>Heart_Rate</th>\n",
       "      <th>Body_Temp</th>\n",
       "    </tr>\n",
       "    <tr>\n",
       "      <th>id</th>\n",
       "      <th></th>\n",
       "      <th></th>\n",
       "      <th></th>\n",
       "      <th></th>\n",
       "      <th></th>\n",
       "      <th></th>\n",
       "      <th></th>\n",
       "    </tr>\n",
       "  </thead>\n",
       "  <tbody>\n",
       "    <tr>\n",
       "      <th>750000</th>\n",
       "      <td>male</td>\n",
       "      <td>45</td>\n",
       "      <td>177.0</td>\n",
       "      <td>81.0</td>\n",
       "      <td>7.0</td>\n",
       "      <td>87.0</td>\n",
       "      <td>39.8</td>\n",
       "    </tr>\n",
       "    <tr>\n",
       "      <th>750001</th>\n",
       "      <td>male</td>\n",
       "      <td>26</td>\n",
       "      <td>200.0</td>\n",
       "      <td>97.0</td>\n",
       "      <td>20.0</td>\n",
       "      <td>101.0</td>\n",
       "      <td>40.5</td>\n",
       "    </tr>\n",
       "    <tr>\n",
       "      <th>750002</th>\n",
       "      <td>female</td>\n",
       "      <td>29</td>\n",
       "      <td>188.0</td>\n",
       "      <td>85.0</td>\n",
       "      <td>16.0</td>\n",
       "      <td>102.0</td>\n",
       "      <td>40.4</td>\n",
       "    </tr>\n",
       "    <tr>\n",
       "      <th>750003</th>\n",
       "      <td>female</td>\n",
       "      <td>39</td>\n",
       "      <td>172.0</td>\n",
       "      <td>73.0</td>\n",
       "      <td>20.0</td>\n",
       "      <td>107.0</td>\n",
       "      <td>40.6</td>\n",
       "    </tr>\n",
       "    <tr>\n",
       "      <th>750004</th>\n",
       "      <td>female</td>\n",
       "      <td>30</td>\n",
       "      <td>173.0</td>\n",
       "      <td>67.0</td>\n",
       "      <td>16.0</td>\n",
       "      <td>94.0</td>\n",
       "      <td>40.5</td>\n",
       "    </tr>\n",
       "  </tbody>\n",
       "</table>\n",
       "</div>"
      ],
      "text/plain": [
       "           Sex  Age  Height  Weight  Duration  Heart_Rate  Body_Temp\n",
       "id                                                                  \n",
       "750000    male   45   177.0    81.0       7.0        87.0       39.8\n",
       "750001    male   26   200.0    97.0      20.0       101.0       40.5\n",
       "750002  female   29   188.0    85.0      16.0       102.0       40.4\n",
       "750003  female   39   172.0    73.0      20.0       107.0       40.6\n",
       "750004  female   30   173.0    67.0      16.0        94.0       40.5"
      ]
     },
     "execution_count": 43,
     "metadata": {},
     "output_type": "execute_result"
    }
   ],
   "source": [
    "df_test.head()"
   ]
  },
  {
   "cell_type": "markdown",
   "id": "45f6a7fc",
   "metadata": {
    "papermill": {
     "duration": 0.018792,
     "end_time": "2025-05-01T11:53:47.457981",
     "exception": false,
     "start_time": "2025-05-01T11:53:47.439189",
     "status": "completed"
    },
    "tags": []
   },
   "source": [
    "# Encoding:"
   ]
  },
  {
   "cell_type": "code",
   "execution_count": null,
   "id": "4b04bbab",
   "metadata": {
    "papermill": {
     "duration": 0.018874,
     "end_time": "2025-05-01T11:53:47.496107",
     "exception": false,
     "start_time": "2025-05-01T11:53:47.477233",
     "status": "completed"
    },
    "tags": []
   },
   "outputs": [],
   "source": []
  },
  {
   "cell_type": "code",
   "execution_count": 44,
   "id": "c630bab9",
   "metadata": {
    "execution": {
     "iopub.execute_input": "2025-05-01T11:53:47.537199Z",
     "iopub.status.busy": "2025-05-01T11:53:47.536885Z",
     "iopub.status.idle": "2025-05-01T11:53:47.583630Z",
     "shell.execute_reply": "2025-05-01T11:53:47.582767Z"
    },
    "papermill": {
     "duration": 0.069138,
     "end_time": "2025-05-01T11:53:47.585243",
     "exception": false,
     "start_time": "2025-05-01T11:53:47.516105",
     "status": "completed"
    },
    "tags": []
   },
   "outputs": [],
   "source": [
    "df_test['Sex']=le.transform(df_test['Sex'])"
   ]
  },
  {
   "cell_type": "code",
   "execution_count": 45,
   "id": "50e2d640",
   "metadata": {
    "execution": {
     "iopub.execute_input": "2025-05-01T11:53:47.624876Z",
     "iopub.status.busy": "2025-05-01T11:53:47.624527Z",
     "iopub.status.idle": "2025-05-01T11:53:47.636250Z",
     "shell.execute_reply": "2025-05-01T11:53:47.635464Z"
    },
    "papermill": {
     "duration": 0.033111,
     "end_time": "2025-05-01T11:53:47.637542",
     "exception": false,
     "start_time": "2025-05-01T11:53:47.604431",
     "status": "completed"
    },
    "tags": []
   },
   "outputs": [
    {
     "data": {
      "text/html": [
       "<div>\n",
       "<style scoped>\n",
       "    .dataframe tbody tr th:only-of-type {\n",
       "        vertical-align: middle;\n",
       "    }\n",
       "\n",
       "    .dataframe tbody tr th {\n",
       "        vertical-align: top;\n",
       "    }\n",
       "\n",
       "    .dataframe thead th {\n",
       "        text-align: right;\n",
       "    }\n",
       "</style>\n",
       "<table border=\"1\" class=\"dataframe\">\n",
       "  <thead>\n",
       "    <tr style=\"text-align: right;\">\n",
       "      <th></th>\n",
       "      <th>Sex</th>\n",
       "      <th>Age</th>\n",
       "      <th>Height</th>\n",
       "      <th>Weight</th>\n",
       "      <th>Duration</th>\n",
       "      <th>Heart_Rate</th>\n",
       "      <th>Body_Temp</th>\n",
       "    </tr>\n",
       "    <tr>\n",
       "      <th>id</th>\n",
       "      <th></th>\n",
       "      <th></th>\n",
       "      <th></th>\n",
       "      <th></th>\n",
       "      <th></th>\n",
       "      <th></th>\n",
       "      <th></th>\n",
       "    </tr>\n",
       "  </thead>\n",
       "  <tbody>\n",
       "    <tr>\n",
       "      <th>750000</th>\n",
       "      <td>1</td>\n",
       "      <td>45</td>\n",
       "      <td>177.0</td>\n",
       "      <td>81.0</td>\n",
       "      <td>7.0</td>\n",
       "      <td>87.0</td>\n",
       "      <td>39.8</td>\n",
       "    </tr>\n",
       "    <tr>\n",
       "      <th>750001</th>\n",
       "      <td>1</td>\n",
       "      <td>26</td>\n",
       "      <td>200.0</td>\n",
       "      <td>97.0</td>\n",
       "      <td>20.0</td>\n",
       "      <td>101.0</td>\n",
       "      <td>40.5</td>\n",
       "    </tr>\n",
       "    <tr>\n",
       "      <th>750002</th>\n",
       "      <td>0</td>\n",
       "      <td>29</td>\n",
       "      <td>188.0</td>\n",
       "      <td>85.0</td>\n",
       "      <td>16.0</td>\n",
       "      <td>102.0</td>\n",
       "      <td>40.4</td>\n",
       "    </tr>\n",
       "    <tr>\n",
       "      <th>750003</th>\n",
       "      <td>0</td>\n",
       "      <td>39</td>\n",
       "      <td>172.0</td>\n",
       "      <td>73.0</td>\n",
       "      <td>20.0</td>\n",
       "      <td>107.0</td>\n",
       "      <td>40.6</td>\n",
       "    </tr>\n",
       "    <tr>\n",
       "      <th>750004</th>\n",
       "      <td>0</td>\n",
       "      <td>30</td>\n",
       "      <td>173.0</td>\n",
       "      <td>67.0</td>\n",
       "      <td>16.0</td>\n",
       "      <td>94.0</td>\n",
       "      <td>40.5</td>\n",
       "    </tr>\n",
       "  </tbody>\n",
       "</table>\n",
       "</div>"
      ],
      "text/plain": [
       "        Sex  Age  Height  Weight  Duration  Heart_Rate  Body_Temp\n",
       "id                                                               \n",
       "750000    1   45   177.0    81.0       7.0        87.0       39.8\n",
       "750001    1   26   200.0    97.0      20.0       101.0       40.5\n",
       "750002    0   29   188.0    85.0      16.0       102.0       40.4\n",
       "750003    0   39   172.0    73.0      20.0       107.0       40.6\n",
       "750004    0   30   173.0    67.0      16.0        94.0       40.5"
      ]
     },
     "execution_count": 45,
     "metadata": {},
     "output_type": "execute_result"
    }
   ],
   "source": [
    "df_test.head()"
   ]
  },
  {
   "cell_type": "markdown",
   "id": "91b53b10",
   "metadata": {
    "papermill": {
     "duration": 0.018616,
     "end_time": "2025-05-01T11:53:47.675397",
     "exception": false,
     "start_time": "2025-05-01T11:53:47.656781",
     "status": "completed"
    },
    "tags": []
   },
   "source": [
    "# Handling the Outliers:"
   ]
  },
  {
   "cell_type": "code",
   "execution_count": 46,
   "id": "e971199a",
   "metadata": {
    "execution": {
     "iopub.execute_input": "2025-05-01T11:53:47.714590Z",
     "iopub.status.busy": "2025-05-01T11:53:47.714282Z",
     "iopub.status.idle": "2025-05-01T11:53:47.834293Z",
     "shell.execute_reply": "2025-05-01T11:53:47.833502Z"
    },
    "papermill": {
     "duration": 0.141235,
     "end_time": "2025-05-01T11:53:47.835663",
     "exception": false,
     "start_time": "2025-05-01T11:53:47.694428",
     "status": "completed"
    },
    "tags": []
   },
   "outputs": [
    {
     "data": {
      "text/html": [
       "<div>\n",
       "<style scoped>\n",
       "    .dataframe tbody tr th:only-of-type {\n",
       "        vertical-align: middle;\n",
       "    }\n",
       "\n",
       "    .dataframe tbody tr th {\n",
       "        vertical-align: top;\n",
       "    }\n",
       "\n",
       "    .dataframe thead th {\n",
       "        text-align: right;\n",
       "    }\n",
       "</style>\n",
       "<table border=\"1\" class=\"dataframe\">\n",
       "  <thead>\n",
       "    <tr style=\"text-align: right;\">\n",
       "      <th></th>\n",
       "      <th>Sex</th>\n",
       "      <th>Age</th>\n",
       "      <th>Height</th>\n",
       "      <th>Weight</th>\n",
       "      <th>Duration</th>\n",
       "      <th>Heart_Rate</th>\n",
       "      <th>Body_Temp</th>\n",
       "      <th>Calories</th>\n",
       "    </tr>\n",
       "    <tr>\n",
       "      <th>id</th>\n",
       "      <th></th>\n",
       "      <th></th>\n",
       "      <th></th>\n",
       "      <th></th>\n",
       "      <th></th>\n",
       "      <th></th>\n",
       "      <th></th>\n",
       "      <th></th>\n",
       "    </tr>\n",
       "  </thead>\n",
       "  <tbody>\n",
       "    <tr>\n",
       "      <th>0</th>\n",
       "      <td>1</td>\n",
       "      <td>36</td>\n",
       "      <td>189.0</td>\n",
       "      <td>82.0</td>\n",
       "      <td>26.0</td>\n",
       "      <td>101.0</td>\n",
       "      <td>41.0</td>\n",
       "      <td>150.0</td>\n",
       "    </tr>\n",
       "    <tr>\n",
       "      <th>1</th>\n",
       "      <td>0</td>\n",
       "      <td>64</td>\n",
       "      <td>163.0</td>\n",
       "      <td>60.0</td>\n",
       "      <td>8.0</td>\n",
       "      <td>85.0</td>\n",
       "      <td>39.7</td>\n",
       "      <td>34.0</td>\n",
       "    </tr>\n",
       "    <tr>\n",
       "      <th>2</th>\n",
       "      <td>0</td>\n",
       "      <td>51</td>\n",
       "      <td>161.0</td>\n",
       "      <td>64.0</td>\n",
       "      <td>7.0</td>\n",
       "      <td>84.0</td>\n",
       "      <td>39.8</td>\n",
       "      <td>29.0</td>\n",
       "    </tr>\n",
       "    <tr>\n",
       "      <th>3</th>\n",
       "      <td>1</td>\n",
       "      <td>20</td>\n",
       "      <td>192.0</td>\n",
       "      <td>90.0</td>\n",
       "      <td>25.0</td>\n",
       "      <td>105.0</td>\n",
       "      <td>40.7</td>\n",
       "      <td>140.0</td>\n",
       "    </tr>\n",
       "    <tr>\n",
       "      <th>4</th>\n",
       "      <td>0</td>\n",
       "      <td>38</td>\n",
       "      <td>166.0</td>\n",
       "      <td>61.0</td>\n",
       "      <td>25.0</td>\n",
       "      <td>102.0</td>\n",
       "      <td>40.6</td>\n",
       "      <td>146.0</td>\n",
       "    </tr>\n",
       "  </tbody>\n",
       "</table>\n",
       "</div>"
      ],
      "text/plain": [
       "    Sex  Age  Height  Weight  Duration  Heart_Rate  Body_Temp  Calories\n",
       "id                                                                     \n",
       "0     1   36   189.0    82.0      26.0       101.0       41.0     150.0\n",
       "1     0   64   163.0    60.0       8.0        85.0       39.7      34.0\n",
       "2     0   51   161.0    64.0       7.0        84.0       39.8      29.0\n",
       "3     1   20   192.0    90.0      25.0       105.0       40.7     140.0\n",
       "4     0   38   166.0    61.0      25.0       102.0       40.6     146.0"
      ]
     },
     "execution_count": 46,
     "metadata": {},
     "output_type": "execute_result"
    }
   ],
   "source": [
    "\n",
    "# Function to detect and clip outliers using IQR\n",
    "def clip_outliers_iqr(column):\n",
    "    Q1 = column.quantile(0.25)\n",
    "    Q3 = column.quantile(0.75)\n",
    "    IQR = Q3 - Q1\n",
    "    lower_bound = Q1 - 1.5 * IQR\n",
    "    upper_bound = Q3 + 1.5 * IQR\n",
    "    # Clipping the column values to the lower and upper bounds\n",
    "    return column.clip(lower=lower_bound, upper=upper_bound)\n",
    "\n",
    "# Apply the clipping function to numerical columns\n",
    "for col in df_test.select_dtypes(include=['float64', 'int64']).columns:\n",
    "    df_test[col] = clip_outliers_iqr(df_test[col])\n",
    "\n",
    "# Display the DataFrame after clipping\n",
    "df.head()"
   ]
  },
  {
   "cell_type": "markdown",
   "id": "fad6a9f1",
   "metadata": {
    "papermill": {
     "duration": 0.019061,
     "end_time": "2025-05-01T11:53:47.874310",
     "exception": false,
     "start_time": "2025-05-01T11:53:47.855249",
     "status": "completed"
    },
    "tags": []
   },
   "source": [
    "# Making the prediction:"
   ]
  },
  {
   "cell_type": "code",
   "execution_count": 47,
   "id": "974b3c2b",
   "metadata": {
    "execution": {
     "iopub.execute_input": "2025-05-01T11:53:47.914586Z",
     "iopub.status.busy": "2025-05-01T11:53:47.913898Z",
     "iopub.status.idle": "2025-05-01T11:54:05.097558Z",
     "shell.execute_reply": "2025-05-01T11:54:05.096602Z"
    },
    "papermill": {
     "duration": 17.205615,
     "end_time": "2025-05-01T11:54:05.099207",
     "exception": false,
     "start_time": "2025-05-01T11:53:47.893592",
     "status": "completed"
    },
    "tags": []
   },
   "outputs": [],
   "source": [
    "test_pred=model_rf.predict(df_test)"
   ]
  },
  {
   "cell_type": "code",
   "execution_count": 48,
   "id": "6a3af3ee",
   "metadata": {
    "execution": {
     "iopub.execute_input": "2025-05-01T11:54:05.139584Z",
     "iopub.status.busy": "2025-05-01T11:54:05.139249Z",
     "iopub.status.idle": "2025-05-01T11:54:05.144775Z",
     "shell.execute_reply": "2025-05-01T11:54:05.143942Z"
    },
    "papermill": {
     "duration": 0.027012,
     "end_time": "2025-05-01T11:54:05.146114",
     "exception": false,
     "start_time": "2025-05-01T11:54:05.119102",
     "status": "completed"
    },
    "tags": []
   },
   "outputs": [
    {
     "data": {
      "text/plain": [
       "array([ 27.32, 106.36,  87.52, ...,  73.62, 169.28,  78.33])"
      ]
     },
     "execution_count": 48,
     "metadata": {},
     "output_type": "execute_result"
    }
   ],
   "source": [
    "test_pred"
   ]
  },
  {
   "cell_type": "code",
   "execution_count": 49,
   "id": "d1bab832",
   "metadata": {
    "execution": {
     "iopub.execute_input": "2025-05-01T11:54:05.186818Z",
     "iopub.status.busy": "2025-05-01T11:54:05.186451Z",
     "iopub.status.idle": "2025-05-01T11:54:05.192373Z",
     "shell.execute_reply": "2025-05-01T11:54:05.191663Z"
    },
    "papermill": {
     "duration": 0.027798,
     "end_time": "2025-05-01T11:54:05.193724",
     "exception": false,
     "start_time": "2025-05-01T11:54:05.165926",
     "status": "completed"
    },
    "tags": []
   },
   "outputs": [],
   "source": [
    "submission_df=pd.DataFrame({'id':df_test.index,'Calories':test_pred})"
   ]
  },
  {
   "cell_type": "code",
   "execution_count": 50,
   "id": "0717471c",
   "metadata": {
    "execution": {
     "iopub.execute_input": "2025-05-01T11:54:05.234548Z",
     "iopub.status.busy": "2025-05-01T11:54:05.234214Z",
     "iopub.status.idle": "2025-05-01T11:54:05.242422Z",
     "shell.execute_reply": "2025-05-01T11:54:05.241668Z"
    },
    "papermill": {
     "duration": 0.030223,
     "end_time": "2025-05-01T11:54:05.243851",
     "exception": false,
     "start_time": "2025-05-01T11:54:05.213628",
     "status": "completed"
    },
    "tags": []
   },
   "outputs": [
    {
     "data": {
      "text/html": [
       "<div>\n",
       "<style scoped>\n",
       "    .dataframe tbody tr th:only-of-type {\n",
       "        vertical-align: middle;\n",
       "    }\n",
       "\n",
       "    .dataframe tbody tr th {\n",
       "        vertical-align: top;\n",
       "    }\n",
       "\n",
       "    .dataframe thead th {\n",
       "        text-align: right;\n",
       "    }\n",
       "</style>\n",
       "<table border=\"1\" class=\"dataframe\">\n",
       "  <thead>\n",
       "    <tr style=\"text-align: right;\">\n",
       "      <th></th>\n",
       "      <th>id</th>\n",
       "      <th>Calories</th>\n",
       "    </tr>\n",
       "  </thead>\n",
       "  <tbody>\n",
       "    <tr>\n",
       "      <th>0</th>\n",
       "      <td>750000</td>\n",
       "      <td>27.320000</td>\n",
       "    </tr>\n",
       "    <tr>\n",
       "      <th>1</th>\n",
       "      <td>750001</td>\n",
       "      <td>106.360000</td>\n",
       "    </tr>\n",
       "    <tr>\n",
       "      <th>2</th>\n",
       "      <td>750002</td>\n",
       "      <td>87.520000</td>\n",
       "    </tr>\n",
       "    <tr>\n",
       "      <th>3</th>\n",
       "      <td>750003</td>\n",
       "      <td>126.130000</td>\n",
       "    </tr>\n",
       "    <tr>\n",
       "      <th>4</th>\n",
       "      <td>750004</td>\n",
       "      <td>76.613333</td>\n",
       "    </tr>\n",
       "  </tbody>\n",
       "</table>\n",
       "</div>"
      ],
      "text/plain": [
       "       id    Calories\n",
       "0  750000   27.320000\n",
       "1  750001  106.360000\n",
       "2  750002   87.520000\n",
       "3  750003  126.130000\n",
       "4  750004   76.613333"
      ]
     },
     "execution_count": 50,
     "metadata": {},
     "output_type": "execute_result"
    }
   ],
   "source": [
    "submission_df.head()"
   ]
  },
  {
   "cell_type": "code",
   "execution_count": 51,
   "id": "ad450680",
   "metadata": {
    "execution": {
     "iopub.execute_input": "2025-05-01T11:54:05.284997Z",
     "iopub.status.busy": "2025-05-01T11:54:05.284282Z",
     "iopub.status.idle": "2025-05-01T11:54:05.652291Z",
     "shell.execute_reply": "2025-05-01T11:54:05.651210Z"
    },
    "papermill": {
     "duration": 0.390189,
     "end_time": "2025-05-01T11:54:05.654037",
     "exception": false,
     "start_time": "2025-05-01T11:54:05.263848",
     "status": "completed"
    },
    "tags": []
   },
   "outputs": [],
   "source": [
    "submission_df.to_csv('submission_rf.csv',index=False)"
   ]
  },
  {
   "cell_type": "code",
   "execution_count": null,
   "id": "a6912a43",
   "metadata": {
    "papermill": {
     "duration": 0.019373,
     "end_time": "2025-05-01T11:54:05.693518",
     "exception": false,
     "start_time": "2025-05-01T11:54:05.674145",
     "status": "completed"
    },
    "tags": []
   },
   "outputs": [],
   "source": []
  }
 ],
 "metadata": {
  "kaggle": {
   "accelerator": "none",
   "dataSources": [
    {
     "databundleVersionId": 11893428,
     "sourceId": 91716,
     "sourceType": "competition"
    }
   ],
   "dockerImageVersionId": 31012,
   "isGpuEnabled": false,
   "isInternetEnabled": true,
   "language": "python",
   "sourceType": "notebook"
  },
  "kernelspec": {
   "display_name": "Python 3",
   "language": "python",
   "name": "python3"
  },
  "language_info": {
   "codemirror_mode": {
    "name": "ipython",
    "version": 3
   },
   "file_extension": ".py",
   "mimetype": "text/x-python",
   "name": "python",
   "nbconvert_exporter": "python",
   "pygments_lexer": "ipython3",
   "version": "3.11.11"
  },
  "papermill": {
   "default_parameters": {},
   "duration": 290.79362,
   "end_time": "2025-05-01T11:54:06.935323",
   "environment_variables": {},
   "exception": null,
   "input_path": "__notebook__.ipynb",
   "output_path": "__notebook__.ipynb",
   "parameters": {},
   "start_time": "2025-05-01T11:49:16.141703",
   "version": "2.6.0"
  }
 },
 "nbformat": 4,
 "nbformat_minor": 5
}
